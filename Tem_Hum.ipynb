{
 "cells": [
  {
   "cell_type": "markdown",
   "id": "proprietary-medicare",
   "metadata": {},
   "source": [
    "# Exploracion De Datos Del Sensor De Temperatura y Humedad\n"
   ]
  },
  {
   "cell_type": "code",
   "execution_count": 2,
   "id": "turned-puzzle",
   "metadata": {},
   "outputs": [],
   "source": [
    "import pandas as pd"
   ]
  },
  {
   "cell_type": "markdown",
   "id": "automatic-approval",
   "metadata": {},
   "source": [
    "# Accedemos a nuestra Api "
   ]
  },
  {
   "cell_type": "code",
   "execution_count": 3,
   "id": "assured-lunch",
   "metadata": {},
   "outputs": [],
   "source": [
    "df = pd.read_json(\"Temp_Hum.json\")"
   ]
  },
  {
   "cell_type": "markdown",
   "id": "going-printing",
   "metadata": {},
   "source": [
    "# Verificamos nuestros datos con la variable creada\n"
   ]
  },
  {
   "cell_type": "code",
   "execution_count": null,
   "id": "increasing-soviet",
   "metadata": {},
   "outputs": [],
   "source": []
  },
  {
   "cell_type": "code",
   "execution_count": 4,
   "id": "ideal-frost",
   "metadata": {},
   "outputs": [
    {
     "data": {
      "text/html": [
       "<div>\n",
       "<style scoped>\n",
       "    .dataframe tbody tr th:only-of-type {\n",
       "        vertical-align: middle;\n",
       "    }\n",
       "\n",
       "    .dataframe tbody tr th {\n",
       "        vertical-align: top;\n",
       "    }\n",
       "\n",
       "    .dataframe thead th {\n",
       "        text-align: right;\n",
       "    }\n",
       "</style>\n",
       "<table border=\"1\" class=\"dataframe\">\n",
       "  <thead>\n",
       "    <tr style=\"text-align: right;\">\n",
       "      <th></th>\n",
       "      <th>idsensorth</th>\n",
       "      <th>temperatura</th>\n",
       "      <th>humedad</th>\n",
       "      <th>fecha</th>\n",
       "    </tr>\n",
       "  </thead>\n",
       "  <tbody>\n",
       "    <tr>\n",
       "      <th>0</th>\n",
       "      <td>8</td>\n",
       "      <td>24</td>\n",
       "      <td>54</td>\n",
       "      <td>2020-11-22 05:21:24</td>\n",
       "    </tr>\n",
       "    <tr>\n",
       "      <th>1</th>\n",
       "      <td>9</td>\n",
       "      <td>24</td>\n",
       "      <td>54</td>\n",
       "      <td>2020-11-22 05:44:05</td>\n",
       "    </tr>\n",
       "    <tr>\n",
       "      <th>2</th>\n",
       "      <td>10</td>\n",
       "      <td>25</td>\n",
       "      <td>54</td>\n",
       "      <td>2020-11-22 05:44:15</td>\n",
       "    </tr>\n",
       "    <tr>\n",
       "      <th>3</th>\n",
       "      <td>11</td>\n",
       "      <td>25</td>\n",
       "      <td>53</td>\n",
       "      <td>2020-11-22 05:44:27</td>\n",
       "    </tr>\n",
       "    <tr>\n",
       "      <th>4</th>\n",
       "      <td>12</td>\n",
       "      <td>25</td>\n",
       "      <td>50</td>\n",
       "      <td>2020-11-22 05:45:03</td>\n",
       "    </tr>\n",
       "    <tr>\n",
       "      <th>5</th>\n",
       "      <td>13</td>\n",
       "      <td>31</td>\n",
       "      <td>52</td>\n",
       "      <td>2020-11-24 11:12:22</td>\n",
       "    </tr>\n",
       "    <tr>\n",
       "      <th>6</th>\n",
       "      <td>14</td>\n",
       "      <td>26</td>\n",
       "      <td>63</td>\n",
       "      <td>2020-12-02 05:32:16</td>\n",
       "    </tr>\n",
       "    <tr>\n",
       "      <th>7</th>\n",
       "      <td>15</td>\n",
       "      <td>26</td>\n",
       "      <td>63</td>\n",
       "      <td>2020-12-02 05:33:02</td>\n",
       "    </tr>\n",
       "    <tr>\n",
       "      <th>8</th>\n",
       "      <td>16</td>\n",
       "      <td>26</td>\n",
       "      <td>63</td>\n",
       "      <td>2020-12-02 05:35:58</td>\n",
       "    </tr>\n",
       "    <tr>\n",
       "      <th>9</th>\n",
       "      <td>17</td>\n",
       "      <td>26</td>\n",
       "      <td>62</td>\n",
       "      <td>2020-12-02 05:36:56</td>\n",
       "    </tr>\n",
       "    <tr>\n",
       "      <th>10</th>\n",
       "      <td>18</td>\n",
       "      <td>26</td>\n",
       "      <td>63</td>\n",
       "      <td>2020-12-02 05:37:09</td>\n",
       "    </tr>\n",
       "    <tr>\n",
       "      <th>11</th>\n",
       "      <td>19</td>\n",
       "      <td>29</td>\n",
       "      <td>58</td>\n",
       "      <td>2020-12-02 09:31:01</td>\n",
       "    </tr>\n",
       "    <tr>\n",
       "      <th>12</th>\n",
       "      <td>20</td>\n",
       "      <td>29</td>\n",
       "      <td>58</td>\n",
       "      <td>2020-12-02 09:32:19</td>\n",
       "    </tr>\n",
       "  </tbody>\n",
       "</table>\n",
       "</div>"
      ],
      "text/plain": [
       "    idsensorth  temperatura  humedad                fecha\n",
       "0            8           24       54  2020-11-22 05:21:24\n",
       "1            9           24       54  2020-11-22 05:44:05\n",
       "2           10           25       54  2020-11-22 05:44:15\n",
       "3           11           25       53  2020-11-22 05:44:27\n",
       "4           12           25       50  2020-11-22 05:45:03\n",
       "5           13           31       52  2020-11-24 11:12:22\n",
       "6           14           26       63  2020-12-02 05:32:16\n",
       "7           15           26       63  2020-12-02 05:33:02\n",
       "8           16           26       63  2020-12-02 05:35:58\n",
       "9           17           26       62  2020-12-02 05:36:56\n",
       "10          18           26       63  2020-12-02 05:37:09\n",
       "11          19           29       58  2020-12-02 09:31:01\n",
       "12          20           29       58  2020-12-02 09:32:19"
      ]
     },
     "execution_count": 4,
     "metadata": {},
     "output_type": "execute_result"
    }
   ],
   "source": [
    "df"
   ]
  },
  {
   "cell_type": "markdown",
   "id": "racial-native",
   "metadata": {},
   "source": [
    "# Accedemos a verificar la informacion de nuestra tabla"
   ]
  },
  {
   "cell_type": "code",
   "execution_count": 5,
   "id": "finished-mounting",
   "metadata": {},
   "outputs": [
    {
     "name": "stdout",
     "output_type": "stream",
     "text": [
      "<class 'pandas.core.frame.DataFrame'>\n",
      "RangeIndex: 13 entries, 0 to 12\n",
      "Data columns (total 4 columns):\n",
      " #   Column       Non-Null Count  Dtype \n",
      "---  ------       --------------  ----- \n",
      " 0   idsensorth   13 non-null     int64 \n",
      " 1   temperatura  13 non-null     int64 \n",
      " 2   humedad      13 non-null     int64 \n",
      " 3   fecha        13 non-null     object\n",
      "dtypes: int64(3), object(1)\n",
      "memory usage: 544.0+ bytes\n"
     ]
    }
   ],
   "source": [
    "df.info()"
   ]
  },
  {
   "cell_type": "markdown",
   "id": "hairy-edward",
   "metadata": {},
   "source": [
    "# Accedemos a sacar los datos estadisticos de nuestra Api"
   ]
  },
  {
   "cell_type": "code",
   "execution_count": 6,
   "id": "devoted-twist",
   "metadata": {},
   "outputs": [
    {
     "data": {
      "text/html": [
       "<div>\n",
       "<style scoped>\n",
       "    .dataframe tbody tr th:only-of-type {\n",
       "        vertical-align: middle;\n",
       "    }\n",
       "\n",
       "    .dataframe tbody tr th {\n",
       "        vertical-align: top;\n",
       "    }\n",
       "\n",
       "    .dataframe thead th {\n",
       "        text-align: right;\n",
       "    }\n",
       "</style>\n",
       "<table border=\"1\" class=\"dataframe\">\n",
       "  <thead>\n",
       "    <tr style=\"text-align: right;\">\n",
       "      <th></th>\n",
       "      <th>idsensorth</th>\n",
       "      <th>temperatura</th>\n",
       "      <th>humedad</th>\n",
       "    </tr>\n",
       "  </thead>\n",
       "  <tbody>\n",
       "    <tr>\n",
       "      <th>count</th>\n",
       "      <td>13.00000</td>\n",
       "      <td>13.000000</td>\n",
       "      <td>13.000000</td>\n",
       "    </tr>\n",
       "    <tr>\n",
       "      <th>mean</th>\n",
       "      <td>14.00000</td>\n",
       "      <td>26.307692</td>\n",
       "      <td>57.461538</td>\n",
       "    </tr>\n",
       "    <tr>\n",
       "      <th>std</th>\n",
       "      <td>3.89444</td>\n",
       "      <td>2.097006</td>\n",
       "      <td>4.875370</td>\n",
       "    </tr>\n",
       "    <tr>\n",
       "      <th>min</th>\n",
       "      <td>8.00000</td>\n",
       "      <td>24.000000</td>\n",
       "      <td>50.000000</td>\n",
       "    </tr>\n",
       "    <tr>\n",
       "      <th>25%</th>\n",
       "      <td>11.00000</td>\n",
       "      <td>25.000000</td>\n",
       "      <td>54.000000</td>\n",
       "    </tr>\n",
       "    <tr>\n",
       "      <th>50%</th>\n",
       "      <td>14.00000</td>\n",
       "      <td>26.000000</td>\n",
       "      <td>58.000000</td>\n",
       "    </tr>\n",
       "    <tr>\n",
       "      <th>75%</th>\n",
       "      <td>17.00000</td>\n",
       "      <td>26.000000</td>\n",
       "      <td>63.000000</td>\n",
       "    </tr>\n",
       "    <tr>\n",
       "      <th>max</th>\n",
       "      <td>20.00000</td>\n",
       "      <td>31.000000</td>\n",
       "      <td>63.000000</td>\n",
       "    </tr>\n",
       "  </tbody>\n",
       "</table>\n",
       "</div>"
      ],
      "text/plain": [
       "       idsensorth  temperatura    humedad\n",
       "count    13.00000    13.000000  13.000000\n",
       "mean     14.00000    26.307692  57.461538\n",
       "std       3.89444     2.097006   4.875370\n",
       "min       8.00000    24.000000  50.000000\n",
       "25%      11.00000    25.000000  54.000000\n",
       "50%      14.00000    26.000000  58.000000\n",
       "75%      17.00000    26.000000  63.000000\n",
       "max      20.00000    31.000000  63.000000"
      ]
     },
     "execution_count": 6,
     "metadata": {},
     "output_type": "execute_result"
    }
   ],
   "source": [
    "df.describe()"
   ]
  },
  {
   "cell_type": "markdown",
   "id": "caring-india",
   "metadata": {},
   "source": [
    "# Observamos los valores Maximos \n"
   ]
  },
  {
   "cell_type": "code",
   "execution_count": 7,
   "id": "charming-sierra",
   "metadata": {},
   "outputs": [
    {
     "data": {
      "text/plain": [
       "idsensorth                      20\n",
       "temperatura                     31\n",
       "humedad                         63\n",
       "fecha          2020-12-02 09:32:19\n",
       "dtype: object"
      ]
     },
     "execution_count": 7,
     "metadata": {},
     "output_type": "execute_result"
    }
   ],
   "source": [
    "df.max()"
   ]
  },
  {
   "cell_type": "markdown",
   "id": "expected-liberia",
   "metadata": {},
   "source": [
    "# Observamos los valores Minimos"
   ]
  },
  {
   "cell_type": "code",
   "execution_count": 8,
   "id": "operational-personality",
   "metadata": {},
   "outputs": [
    {
     "data": {
      "text/plain": [
       "idsensorth                       8\n",
       "temperatura                     24\n",
       "humedad                         50\n",
       "fecha          2020-11-22 05:21:24\n",
       "dtype: object"
      ]
     },
     "execution_count": 8,
     "metadata": {},
     "output_type": "execute_result"
    }
   ],
   "source": [
    "df.min()"
   ]
  },
  {
   "cell_type": "markdown",
   "id": "reduced-latest",
   "metadata": {},
   "source": [
    "# Observamos las columnas de nuestra tabla"
   ]
  },
  {
   "cell_type": "code",
   "execution_count": null,
   "id": "sitting-associate",
   "metadata": {},
   "outputs": [],
   "source": []
  },
  {
   "cell_type": "code",
   "execution_count": 9,
   "id": "continental-swimming",
   "metadata": {},
   "outputs": [
    {
     "data": {
      "text/plain": [
       "Index(['idsensorth', 'temperatura', 'humedad', 'fecha'], dtype='object')"
      ]
     },
     "execution_count": 9,
     "metadata": {},
     "output_type": "execute_result"
    }
   ],
   "source": [
    "df.columns"
   ]
  },
  {
   "cell_type": "markdown",
   "id": "promising-interstate",
   "metadata": {},
   "source": [
    "# Observamos los datos Correlativos"
   ]
  },
  {
   "cell_type": "code",
   "execution_count": 10,
   "id": "spoken-nancy",
   "metadata": {},
   "outputs": [
    {
     "data": {
      "text/html": [
       "<div>\n",
       "<style scoped>\n",
       "    .dataframe tbody tr th:only-of-type {\n",
       "        vertical-align: middle;\n",
       "    }\n",
       "\n",
       "    .dataframe tbody tr th {\n",
       "        vertical-align: top;\n",
       "    }\n",
       "\n",
       "    .dataframe thead th {\n",
       "        text-align: right;\n",
       "    }\n",
       "</style>\n",
       "<table border=\"1\" class=\"dataframe\">\n",
       "  <thead>\n",
       "    <tr style=\"text-align: right;\">\n",
       "      <th></th>\n",
       "      <th>idsensorth</th>\n",
       "      <th>temperatura</th>\n",
       "      <th>humedad</th>\n",
       "    </tr>\n",
       "  </thead>\n",
       "  <tbody>\n",
       "    <tr>\n",
       "      <th>idsensorth</th>\n",
       "      <td>1.000000</td>\n",
       "      <td>0.602041</td>\n",
       "      <td>0.632017</td>\n",
       "    </tr>\n",
       "    <tr>\n",
       "      <th>temperatura</th>\n",
       "      <td>0.602041</td>\n",
       "      <td>1.000000</td>\n",
       "      <td>0.042009</td>\n",
       "    </tr>\n",
       "    <tr>\n",
       "      <th>humedad</th>\n",
       "      <td>0.632017</td>\n",
       "      <td>0.042009</td>\n",
       "      <td>1.000000</td>\n",
       "    </tr>\n",
       "  </tbody>\n",
       "</table>\n",
       "</div>"
      ],
      "text/plain": [
       "             idsensorth  temperatura   humedad\n",
       "idsensorth     1.000000     0.602041  0.632017\n",
       "temperatura    0.602041     1.000000  0.042009\n",
       "humedad        0.632017     0.042009  1.000000"
      ]
     },
     "execution_count": 10,
     "metadata": {},
     "output_type": "execute_result"
    }
   ],
   "source": [
    "df.corr()"
   ]
  },
  {
   "cell_type": "markdown",
   "id": "dressed-password",
   "metadata": {},
   "source": [
    "# Extraemos los primeros 5 datos "
   ]
  },
  {
   "cell_type": "code",
   "execution_count": 11,
   "id": "after-truth",
   "metadata": {},
   "outputs": [
    {
     "data": {
      "text/html": [
       "<div>\n",
       "<style scoped>\n",
       "    .dataframe tbody tr th:only-of-type {\n",
       "        vertical-align: middle;\n",
       "    }\n",
       "\n",
       "    .dataframe tbody tr th {\n",
       "        vertical-align: top;\n",
       "    }\n",
       "\n",
       "    .dataframe thead th {\n",
       "        text-align: right;\n",
       "    }\n",
       "</style>\n",
       "<table border=\"1\" class=\"dataframe\">\n",
       "  <thead>\n",
       "    <tr style=\"text-align: right;\">\n",
       "      <th></th>\n",
       "      <th>idsensorth</th>\n",
       "      <th>temperatura</th>\n",
       "      <th>humedad</th>\n",
       "      <th>fecha</th>\n",
       "    </tr>\n",
       "  </thead>\n",
       "  <tbody>\n",
       "    <tr>\n",
       "      <th>0</th>\n",
       "      <td>8</td>\n",
       "      <td>24</td>\n",
       "      <td>54</td>\n",
       "      <td>2020-11-22 05:21:24</td>\n",
       "    </tr>\n",
       "    <tr>\n",
       "      <th>1</th>\n",
       "      <td>9</td>\n",
       "      <td>24</td>\n",
       "      <td>54</td>\n",
       "      <td>2020-11-22 05:44:05</td>\n",
       "    </tr>\n",
       "    <tr>\n",
       "      <th>2</th>\n",
       "      <td>10</td>\n",
       "      <td>25</td>\n",
       "      <td>54</td>\n",
       "      <td>2020-11-22 05:44:15</td>\n",
       "    </tr>\n",
       "    <tr>\n",
       "      <th>3</th>\n",
       "      <td>11</td>\n",
       "      <td>25</td>\n",
       "      <td>53</td>\n",
       "      <td>2020-11-22 05:44:27</td>\n",
       "    </tr>\n",
       "    <tr>\n",
       "      <th>4</th>\n",
       "      <td>12</td>\n",
       "      <td>25</td>\n",
       "      <td>50</td>\n",
       "      <td>2020-11-22 05:45:03</td>\n",
       "    </tr>\n",
       "  </tbody>\n",
       "</table>\n",
       "</div>"
      ],
      "text/plain": [
       "   idsensorth  temperatura  humedad                fecha\n",
       "0           8           24       54  2020-11-22 05:21:24\n",
       "1           9           24       54  2020-11-22 05:44:05\n",
       "2          10           25       54  2020-11-22 05:44:15\n",
       "3          11           25       53  2020-11-22 05:44:27\n",
       "4          12           25       50  2020-11-22 05:45:03"
      ]
     },
     "execution_count": 11,
     "metadata": {},
     "output_type": "execute_result"
    }
   ],
   "source": [
    "df.head(5)"
   ]
  },
  {
   "cell_type": "markdown",
   "id": "spoken-dublin",
   "metadata": {},
   "source": [
    "# Organizamos los datos por fecha de los primeros 10 numeros"
   ]
  },
  {
   "cell_type": "code",
   "execution_count": 12,
   "id": "younger-invite",
   "metadata": {},
   "outputs": [],
   "source": [
    "df = df.head(10).sort_values(by='fecha')"
   ]
  },
  {
   "cell_type": "code",
   "execution_count": 13,
   "id": "sitting-title",
   "metadata": {},
   "outputs": [
    {
     "data": {
      "text/html": [
       "<div>\n",
       "<style scoped>\n",
       "    .dataframe tbody tr th:only-of-type {\n",
       "        vertical-align: middle;\n",
       "    }\n",
       "\n",
       "    .dataframe tbody tr th {\n",
       "        vertical-align: top;\n",
       "    }\n",
       "\n",
       "    .dataframe thead th {\n",
       "        text-align: right;\n",
       "    }\n",
       "</style>\n",
       "<table border=\"1\" class=\"dataframe\">\n",
       "  <thead>\n",
       "    <tr style=\"text-align: right;\">\n",
       "      <th></th>\n",
       "      <th>idsensorth</th>\n",
       "      <th>temperatura</th>\n",
       "      <th>humedad</th>\n",
       "      <th>fecha</th>\n",
       "    </tr>\n",
       "  </thead>\n",
       "  <tbody>\n",
       "    <tr>\n",
       "      <th>0</th>\n",
       "      <td>8</td>\n",
       "      <td>24</td>\n",
       "      <td>54</td>\n",
       "      <td>2020-11-22 05:21:24</td>\n",
       "    </tr>\n",
       "    <tr>\n",
       "      <th>1</th>\n",
       "      <td>9</td>\n",
       "      <td>24</td>\n",
       "      <td>54</td>\n",
       "      <td>2020-11-22 05:44:05</td>\n",
       "    </tr>\n",
       "    <tr>\n",
       "      <th>2</th>\n",
       "      <td>10</td>\n",
       "      <td>25</td>\n",
       "      <td>54</td>\n",
       "      <td>2020-11-22 05:44:15</td>\n",
       "    </tr>\n",
       "    <tr>\n",
       "      <th>3</th>\n",
       "      <td>11</td>\n",
       "      <td>25</td>\n",
       "      <td>53</td>\n",
       "      <td>2020-11-22 05:44:27</td>\n",
       "    </tr>\n",
       "    <tr>\n",
       "      <th>4</th>\n",
       "      <td>12</td>\n",
       "      <td>25</td>\n",
       "      <td>50</td>\n",
       "      <td>2020-11-22 05:45:03</td>\n",
       "    </tr>\n",
       "    <tr>\n",
       "      <th>5</th>\n",
       "      <td>13</td>\n",
       "      <td>31</td>\n",
       "      <td>52</td>\n",
       "      <td>2020-11-24 11:12:22</td>\n",
       "    </tr>\n",
       "    <tr>\n",
       "      <th>6</th>\n",
       "      <td>14</td>\n",
       "      <td>26</td>\n",
       "      <td>63</td>\n",
       "      <td>2020-12-02 05:32:16</td>\n",
       "    </tr>\n",
       "    <tr>\n",
       "      <th>7</th>\n",
       "      <td>15</td>\n",
       "      <td>26</td>\n",
       "      <td>63</td>\n",
       "      <td>2020-12-02 05:33:02</td>\n",
       "    </tr>\n",
       "    <tr>\n",
       "      <th>8</th>\n",
       "      <td>16</td>\n",
       "      <td>26</td>\n",
       "      <td>63</td>\n",
       "      <td>2020-12-02 05:35:58</td>\n",
       "    </tr>\n",
       "    <tr>\n",
       "      <th>9</th>\n",
       "      <td>17</td>\n",
       "      <td>26</td>\n",
       "      <td>62</td>\n",
       "      <td>2020-12-02 05:36:56</td>\n",
       "    </tr>\n",
       "  </tbody>\n",
       "</table>\n",
       "</div>"
      ],
      "text/plain": [
       "   idsensorth  temperatura  humedad                fecha\n",
       "0           8           24       54  2020-11-22 05:21:24\n",
       "1           9           24       54  2020-11-22 05:44:05\n",
       "2          10           25       54  2020-11-22 05:44:15\n",
       "3          11           25       53  2020-11-22 05:44:27\n",
       "4          12           25       50  2020-11-22 05:45:03\n",
       "5          13           31       52  2020-11-24 11:12:22\n",
       "6          14           26       63  2020-12-02 05:32:16\n",
       "7          15           26       63  2020-12-02 05:33:02\n",
       "8          16           26       63  2020-12-02 05:35:58\n",
       "9          17           26       62  2020-12-02 05:36:56"
      ]
     },
     "execution_count": 13,
     "metadata": {},
     "output_type": "execute_result"
    }
   ],
   "source": [
    "df"
   ]
  },
  {
   "cell_type": "markdown",
   "id": "neural-insight",
   "metadata": {},
   "source": [
    "# Mostramos los indices de la informacion"
   ]
  },
  {
   "cell_type": "code",
   "execution_count": 14,
   "id": "mexican-fifty",
   "metadata": {},
   "outputs": [
    {
     "data": {
      "text/plain": [
       "Int64Index([0, 1, 2, 3, 4, 5, 6, 7, 8, 9], dtype='int64')"
      ]
     },
     "execution_count": 14,
     "metadata": {},
     "output_type": "execute_result"
    }
   ],
   "source": [
    "df.index"
   ]
  },
  {
   "cell_type": "markdown",
   "id": "expensive-munich",
   "metadata": {},
   "source": [
    "# Obtenemos el valor unico de temperatura"
   ]
  },
  {
   "cell_type": "code",
   "execution_count": 17,
   "id": "corporate-scholarship",
   "metadata": {},
   "outputs": [
    {
     "data": {
      "text/plain": [
       "array([24, 25, 31, 26])"
      ]
     },
     "execution_count": 17,
     "metadata": {},
     "output_type": "execute_result"
    }
   ],
   "source": [
    "df.temperatura.unique()"
   ]
  },
  {
   "cell_type": "markdown",
   "id": "whole-alloy",
   "metadata": {},
   "source": [
    "# Importamos nuevas librerias"
   ]
  },
  {
   "cell_type": "code",
   "execution_count": 18,
   "id": "outer-confidentiality",
   "metadata": {},
   "outputs": [],
   "source": [
    "# Numpy operaciones de matrices \n",
    "import numpy as np \n",
    "# seaborn es para graficar y hacer comparativos\n",
    "import seaborn as sns \n",
    " \n",
    "# Graficas de forma general \n",
    "#import matplotlib as plt \n",
    "from matplotlib import pyplot as plt \n",
    "%matplotlib inline"
   ]
  },
  {
   "cell_type": "markdown",
   "id": "documented-model",
   "metadata": {},
   "source": [
    "# Relacionamos la temperatura y humedad"
   ]
  },
  {
   "cell_type": "code",
   "execution_count": 19,
   "id": "favorite-alliance",
   "metadata": {},
   "outputs": [],
   "source": [
    "relation = df[['temperatura','humedad']]"
   ]
  },
  {
   "cell_type": "code",
   "execution_count": 22,
   "id": "chronic-canvas",
   "metadata": {},
   "outputs": [
    {
     "data": {
      "text/html": [
       "<div>\n",
       "<style scoped>\n",
       "    .dataframe tbody tr th:only-of-type {\n",
       "        vertical-align: middle;\n",
       "    }\n",
       "\n",
       "    .dataframe tbody tr th {\n",
       "        vertical-align: top;\n",
       "    }\n",
       "\n",
       "    .dataframe thead th {\n",
       "        text-align: right;\n",
       "    }\n",
       "</style>\n",
       "<table border=\"1\" class=\"dataframe\">\n",
       "  <thead>\n",
       "    <tr style=\"text-align: right;\">\n",
       "      <th></th>\n",
       "      <th>temperatura</th>\n",
       "      <th>humedad</th>\n",
       "    </tr>\n",
       "  </thead>\n",
       "  <tbody>\n",
       "    <tr>\n",
       "      <th>0</th>\n",
       "      <td>24</td>\n",
       "      <td>54</td>\n",
       "    </tr>\n",
       "    <tr>\n",
       "      <th>1</th>\n",
       "      <td>24</td>\n",
       "      <td>54</td>\n",
       "    </tr>\n",
       "    <tr>\n",
       "      <th>2</th>\n",
       "      <td>25</td>\n",
       "      <td>54</td>\n",
       "    </tr>\n",
       "    <tr>\n",
       "      <th>3</th>\n",
       "      <td>25</td>\n",
       "      <td>53</td>\n",
       "    </tr>\n",
       "    <tr>\n",
       "      <th>4</th>\n",
       "      <td>25</td>\n",
       "      <td>50</td>\n",
       "    </tr>\n",
       "    <tr>\n",
       "      <th>5</th>\n",
       "      <td>31</td>\n",
       "      <td>52</td>\n",
       "    </tr>\n",
       "    <tr>\n",
       "      <th>6</th>\n",
       "      <td>26</td>\n",
       "      <td>63</td>\n",
       "    </tr>\n",
       "    <tr>\n",
       "      <th>7</th>\n",
       "      <td>26</td>\n",
       "      <td>63</td>\n",
       "    </tr>\n",
       "    <tr>\n",
       "      <th>8</th>\n",
       "      <td>26</td>\n",
       "      <td>63</td>\n",
       "    </tr>\n",
       "    <tr>\n",
       "      <th>9</th>\n",
       "      <td>26</td>\n",
       "      <td>62</td>\n",
       "    </tr>\n",
       "  </tbody>\n",
       "</table>\n",
       "</div>"
      ],
      "text/plain": [
       "   temperatura  humedad\n",
       "0           24       54\n",
       "1           24       54\n",
       "2           25       54\n",
       "3           25       53\n",
       "4           25       50\n",
       "5           31       52\n",
       "6           26       63\n",
       "7           26       63\n",
       "8           26       63\n",
       "9           26       62"
      ]
     },
     "execution_count": 22,
     "metadata": {},
     "output_type": "execute_result"
    }
   ],
   "source": [
    "relation.head(10)"
   ]
  },
  {
   "cell_type": "markdown",
   "id": "demographic-recommendation",
   "metadata": {},
   "source": [
    "# Visualizamos la relacion que existe entre la temperatura y humedad por medio de graficas"
   ]
  },
  {
   "cell_type": "code",
   "execution_count": 21,
   "id": "meaning-darwin",
   "metadata": {},
   "outputs": [
    {
     "data": {
      "image/png": "[encoded data removed]",
      "text/plain": [
       "<Figure size 360x360 with 6 Axes>"
      ]
     },
     "metadata": {
      "needs_background": "light"
     },
     "output_type": "display_data"
    }
   ],
   "source": [
    "sns.pairplot(relation, kind ='reg')\n",
    "plt.show()"
   ]
  },
  {
   "cell_type": "markdown",
   "id": "indonesian-establishment",
   "metadata": {},
   "source": [
    "# Visualizamos de manera detallada la relacion de 6 datos"
   ]
  },
  {
   "cell_type": "code",
   "execution_count": 25,
   "id": "capable-section",
   "metadata": {},
   "outputs": [],
   "source": [
    "portiondata = relation.head(6)"
   ]
  },
  {
   "cell_type": "code",
   "execution_count": 26,
   "id": "documented-avenue",
   "metadata": {},
   "outputs": [
    {
     "data": {
      "image/png": "[encoded data removed]",
      "text/plain": [
       "<Figure size 360x360 with 6 Axes>"
      ]
     },
     "metadata": {
      "needs_background": "light"
     },
     "output_type": "display_data"
    }
   ],
   "source": [
    "sns.pairplot(portiondata, kind ='reg')\n",
    "plt.show()"
   ]
  },
  {
   "cell_type": "markdown",
   "id": "cognitive-occasion",
   "metadata": {},
   "source": [
    "# Accedemos a explorar unicamente los datos de temperatura con una grafica diferente"
   ]
  },
  {
   "cell_type": "code",
   "execution_count": 27,
   "id": "wicked-synthetic",
   "metadata": {},
   "outputs": [
    {
     "data": {
      "text/plain": [
       "<matplotlib.axes._subplots.AxesSubplot at 0x7f02dba2ba58>"
      ]
     },
     "execution_count": 27,
     "metadata": {},
     "output_type": "execute_result"
    },
    {
     "data": {
      "image/png": "[encoded data removed]",
      "text/plain": [
       "<Figure size 432x288 with 1 Axes>"
      ]
     },
     "metadata": {
      "needs_background": "light"
     },
     "output_type": "display_data"
    }
   ],
   "source": [
    "sns.distplot(df.temperatura)"
   ]
  },
  {
   "cell_type": "markdown",
   "id": "accredited-cement",
   "metadata": {},
   "source": [
    "# Accedemos a explorar unicamente los datos de la humedad con una grafica diferente"
   ]
  },
  {
   "cell_type": "code",
   "execution_count": 29,
   "id": "veterinary-margin",
   "metadata": {},
   "outputs": [
    {
     "data": {
      "text/plain": [
       "<matplotlib.axes._subplots.AxesSubplot at 0x7f02dba6f6d8>"
      ]
     },
     "execution_count": 29,
     "metadata": {},
     "output_type": "execute_result"
    },
    {
     "data": {
      "image/png": "[encoded data removed]",
      "text/plain": [
       "<Figure size 432x288 with 1 Axes>"
      ]
     },
     "metadata": {
      "needs_background": "light"
     },
     "output_type": "display_data"
    }
   ],
   "source": [
    "sns.distplot(df.humedad)"
   ]
  },
  {
   "cell_type": "markdown",
   "id": "funny-chambers",
   "metadata": {},
   "source": [
    "# Visualizamos la regresion de nuestro dataframe"
   ]
  },
  {
   "cell_type": "code",
   "execution_count": 30,
   "id": "great-elizabeth",
   "metadata": {},
   "outputs": [
    {
     "data": {
      "text/plain": [
       "<seaborn.axisgrid.FacetGrid at 0x7f02dbb1ef60>"
      ]
     },
     "execution_count": 30,
     "metadata": {},
     "output_type": "execute_result"
    },
    {
     "data": {
      "image/png": "[encoded data removed]",
      "text/plain": [
       "<Figure size 360x360 with 1 Axes>"
      ]
     },
     "metadata": {
      "needs_background": "light"
     },
     "output_type": "display_data"
    }
   ],
   "source": [
    "sns.lmplot(x='temperatura', y='humedad', data=df)"
   ]
  },
  {
   "cell_type": "code",
   "execution_count": 31,
   "id": "invisible-constraint",
   "metadata": {},
   "outputs": [
    {
     "data": {
      "text/plain": [
       "<seaborn.axisgrid.FacetGrid at 0x7f02dbbc52e8>"
      ]
     },
     "execution_count": 31,
     "metadata": {},
     "output_type": "execute_result"
    },
    {
     "data": {
      "image/png": "[encoded data removed]",
      "text/plain": [
       "<Figure size 360x360 with 1 Axes>"
      ]
     },
     "metadata": {
      "needs_background": "light"
     },
     "output_type": "display_data"
    }
   ],
   "source": [
    "sns.lmplot(x='humedad', y='temperatura', data=df)"
   ]
  },
  {
   "cell_type": "markdown",
   "id": "reported-blake",
   "metadata": {},
   "source": [
    "# Visualizamos la dispersion e histogramas de la temperatura y humedad"
   ]
  },
  {
   "cell_type": "code",
   "execution_count": 35,
   "id": "electrical-wednesday",
   "metadata": {},
   "outputs": [
    {
     "data": {
      "text/plain": [
       "<seaborn.axisgrid.JointGrid at 0x7f02dbec7048>"
      ]
     },
     "execution_count": 35,
     "metadata": {},
     "output_type": "execute_result"
    },
    {
     "data": {
      "image/png": "[encoded data removed]",
      "text/plain": [
       "<Figure size 432x432 with 3 Axes>"
      ]
     },
     "metadata": {
      "needs_background": "light"
     },
     "output_type": "display_data"
    }
   ],
   "source": [
    "sns.jointplot(x='temperatura', y='humedad', data=df)"
   ]
  },
  {
   "cell_type": "code",
   "execution_count": null,
   "id": "severe-usage",
   "metadata": {},
   "outputs": [],
   "source": []
  },
  {
   "cell_type": "code",
   "execution_count": null,
   "id": "amended-keyboard",
   "metadata": {},
   "outputs": [],
   "source": []
  },
  {
   "cell_type": "code",
   "execution_count": null,
   "id": "dried-transcription",
   "metadata": {},
   "outputs": [],
   "source": []
  },
  {
   "cell_type": "code",
   "execution_count": null,
   "id": "passive-sunday",
   "metadata": {},
   "outputs": [],
   "source": []
  },
  {
   "cell_type": "code",
   "execution_count": null,
   "id": "collected-vinyl",
   "metadata": {},
   "outputs": [],
   "source": []
  },
  {
   "cell_type": "code",
   "execution_count": null,
   "id": "vulnerable-perspective",
   "metadata": {},
   "outputs": [],
   "source": []
  },
  {
   "cell_type": "code",
   "execution_count": null,
   "id": "overall-provincial",
   "metadata": {},
   "outputs": [],
   "source": []
  }
 ],
 "metadata": {
  "kernelspec": {
   "display_name": "conda_python3",
   "language": "python",
   "name": "conda_python3"
  },
  "language_info": {
   "codemirror_mode": {
    "name": "ipython",
    "version": 3
   },
   "file_extension": ".py",
   "mimetype": "text/x-python",
   "name": "python",
   "nbconvert_exporter": "python",
   "pygments_lexer": "ipython3",
   "version": "3.6.10"
  }
 },
 "nbformat": 4,
 "nbformat_minor": 5
}
