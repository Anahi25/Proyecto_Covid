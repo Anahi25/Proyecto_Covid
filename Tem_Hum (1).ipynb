{
 "cells": [
  {
   "cell_type": "markdown",
   "id": "academic-amateur",
   "metadata": {},
   "source": [
    "# Exploración De Datos Del Sensor De Temperatura y Humedad\n"
   ]
  },
  {
   "cell_type": "code",
   "execution_count": 2,
   "id": "satellite-performer",
   "metadata": {},
   "outputs": [],
   "source": [
    "import pandas as pd"
   ]
  },
  {
   "cell_type": "markdown",
   "id": "running-workstation",
   "metadata": {},
   "source": [
    "# Accedemos a nuestra Api "
   ]
  },
  {
   "cell_type": "code",
   "execution_count": 4,
   "id": "premier-coast",
   "metadata": {},
   "outputs": [],
   "source": [
    "df = pd.read_json(\"sensortemp.json\")"
   ]
  },
  {
   "cell_type": "code",
   "execution_count": null,
   "id": "endless-method",
   "metadata": {},
   "outputs": [],
   "source": []
  },
  {
   "cell_type": "markdown",
   "id": "legendary-cyprus",
   "metadata": {},
   "source": [
    "# Verificamos nuestros datos con la variable creada\n"
   ]
  },
  {
   "cell_type": "code",
   "execution_count": null,
   "id": "comparative-religion",
   "metadata": {},
   "outputs": [],
   "source": []
  },
  {
   "cell_type": "code",
   "execution_count": 5,
   "id": "ranking-workshop",
   "metadata": {},
   "outputs": [
    {
     "data": {
      "text/html": [
       "<div>\n",
       "<style scoped>\n",
       "    .dataframe tbody tr th:only-of-type {\n",
       "        vertical-align: middle;\n",
       "    }\n",
       "\n",
       "    .dataframe tbody tr th {\n",
       "        vertical-align: top;\n",
       "    }\n",
       "\n",
       "    .dataframe thead th {\n",
       "        text-align: right;\n",
       "    }\n",
       "</style>\n",
       "<table border=\"1\" class=\"dataframe\">\n",
       "  <thead>\n",
       "    <tr style=\"text-align: right;\">\n",
       "      <th></th>\n",
       "      <th>idsensorth</th>\n",
       "      <th>temperatura</th>\n",
       "      <th>humedad</th>\n",
       "      <th>fecha</th>\n",
       "    </tr>\n",
       "  </thead>\n",
       "  <tbody>\n",
       "    <tr>\n",
       "      <th>0</th>\n",
       "      <td>8</td>\n",
       "      <td>29</td>\n",
       "      <td>38</td>\n",
       "      <td>2020-11-22 05:21:24</td>\n",
       "    </tr>\n",
       "    <tr>\n",
       "      <th>1</th>\n",
       "      <td>9</td>\n",
       "      <td>29</td>\n",
       "      <td>38</td>\n",
       "      <td>2020-11-22 05:44:05</td>\n",
       "    </tr>\n",
       "    <tr>\n",
       "      <th>2</th>\n",
       "      <td>10</td>\n",
       "      <td>29</td>\n",
       "      <td>38</td>\n",
       "      <td>2020-11-22 05:44:15</td>\n",
       "    </tr>\n",
       "    <tr>\n",
       "      <th>3</th>\n",
       "      <td>11</td>\n",
       "      <td>29</td>\n",
       "      <td>38</td>\n",
       "      <td>2020-11-22 05:44:27</td>\n",
       "    </tr>\n",
       "    <tr>\n",
       "      <th>4</th>\n",
       "      <td>12</td>\n",
       "      <td>30</td>\n",
       "      <td>38</td>\n",
       "      <td>2020-11-22 05:45:03</td>\n",
       "    </tr>\n",
       "    <tr>\n",
       "      <th>...</th>\n",
       "      <td>...</td>\n",
       "      <td>...</td>\n",
       "      <td>...</td>\n",
       "      <td>...</td>\n",
       "    </tr>\n",
       "    <tr>\n",
       "      <th>69</th>\n",
       "      <td>77</td>\n",
       "      <td>28</td>\n",
       "      <td>29</td>\n",
       "      <td>2021-03-08 08:49:45</td>\n",
       "    </tr>\n",
       "    <tr>\n",
       "      <th>70</th>\n",
       "      <td>78</td>\n",
       "      <td>28</td>\n",
       "      <td>29</td>\n",
       "      <td>2021-03-08 08:49:47</td>\n",
       "    </tr>\n",
       "    <tr>\n",
       "      <th>71</th>\n",
       "      <td>79</td>\n",
       "      <td>28</td>\n",
       "      <td>29</td>\n",
       "      <td>2021-03-08 08:49:55</td>\n",
       "    </tr>\n",
       "    <tr>\n",
       "      <th>72</th>\n",
       "      <td>80</td>\n",
       "      <td>28</td>\n",
       "      <td>29</td>\n",
       "      <td>2021-03-08 08:50:27</td>\n",
       "    </tr>\n",
       "    <tr>\n",
       "      <th>73</th>\n",
       "      <td>81</td>\n",
       "      <td>28</td>\n",
       "      <td>29</td>\n",
       "      <td>2021-03-08 08:51:11</td>\n",
       "    </tr>\n",
       "  </tbody>\n",
       "</table>\n",
       "<p>74 rows × 4 columns</p>\n",
       "</div>"
      ],
      "text/plain": [
       "    idsensorth  temperatura  humedad                fecha\n",
       "0            8           29       38  2020-11-22 05:21:24\n",
       "1            9           29       38  2020-11-22 05:44:05\n",
       "2           10           29       38  2020-11-22 05:44:15\n",
       "3           11           29       38  2020-11-22 05:44:27\n",
       "4           12           30       38  2020-11-22 05:45:03\n",
       "..         ...          ...      ...                  ...\n",
       "69          77           28       29  2021-03-08 08:49:45\n",
       "70          78           28       29  2021-03-08 08:49:47\n",
       "71          79           28       29  2021-03-08 08:49:55\n",
       "72          80           28       29  2021-03-08 08:50:27\n",
       "73          81           28       29  2021-03-08 08:51:11\n",
       "\n",
       "[74 rows x 4 columns]"
      ]
     },
     "execution_count": 5,
     "metadata": {},
     "output_type": "execute_result"
    }
   ],
   "source": [
    "df"
   ]
  },
  {
   "cell_type": "code",
   "execution_count": null,
   "id": "expensive-scope",
   "metadata": {},
   "outputs": [],
   "source": []
  },
  {
   "cell_type": "markdown",
   "id": "positive-assessment",
   "metadata": {},
   "source": [
    "# Accedemos a verificar la información de nuestra tabla"
   ]
  },
  {
   "cell_type": "code",
   "execution_count": 6,
   "id": "documentary-grove",
   "metadata": {},
   "outputs": [
    {
     "name": "stdout",
     "output_type": "stream",
     "text": [
      "<class 'pandas.core.frame.DataFrame'>\n",
      "RangeIndex: 74 entries, 0 to 73\n",
      "Data columns (total 4 columns):\n",
      " #   Column       Non-Null Count  Dtype \n",
      "---  ------       --------------  ----- \n",
      " 0   idsensorth   74 non-null     int64 \n",
      " 1   temperatura  74 non-null     int64 \n",
      " 2   humedad      74 non-null     int64 \n",
      " 3   fecha        74 non-null     object\n",
      "dtypes: int64(3), object(1)\n",
      "memory usage: 2.4+ KB\n"
     ]
    }
   ],
   "source": [
    "df.info()"
   ]
  },
  {
   "cell_type": "code",
   "execution_count": null,
   "id": "continent-promotion",
   "metadata": {},
   "outputs": [],
   "source": []
  },
  {
   "cell_type": "markdown",
   "id": "hairy-travel",
   "metadata": {},
   "source": [
    "# Accedemos a sacar los datos estadisticos de nuestra Api"
   ]
  },
  {
   "cell_type": "code",
   "execution_count": 7,
   "id": "similar-account",
   "metadata": {},
   "outputs": [
    {
     "data": {
      "text/html": [
       "<div>\n",
       "<style scoped>\n",
       "    .dataframe tbody tr th:only-of-type {\n",
       "        vertical-align: middle;\n",
       "    }\n",
       "\n",
       "    .dataframe tbody tr th {\n",
       "        vertical-align: top;\n",
       "    }\n",
       "\n",
       "    .dataframe thead th {\n",
       "        text-align: right;\n",
       "    }\n",
       "</style>\n",
       "<table border=\"1\" class=\"dataframe\">\n",
       "  <thead>\n",
       "    <tr style=\"text-align: right;\">\n",
       "      <th></th>\n",
       "      <th>idsensorth</th>\n",
       "      <th>temperatura</th>\n",
       "      <th>humedad</th>\n",
       "    </tr>\n",
       "  </thead>\n",
       "  <tbody>\n",
       "    <tr>\n",
       "      <th>count</th>\n",
       "      <td>74.000000</td>\n",
       "      <td>74.000000</td>\n",
       "      <td>74.000000</td>\n",
       "    </tr>\n",
       "    <tr>\n",
       "      <th>mean</th>\n",
       "      <td>44.500000</td>\n",
       "      <td>27.905405</td>\n",
       "      <td>29.405405</td>\n",
       "    </tr>\n",
       "    <tr>\n",
       "      <th>std</th>\n",
       "      <td>21.505813</td>\n",
       "      <td>8.623270</td>\n",
       "      <td>4.776997</td>\n",
       "    </tr>\n",
       "    <tr>\n",
       "      <th>min</th>\n",
       "      <td>8.000000</td>\n",
       "      <td>21.000000</td>\n",
       "      <td>20.000000</td>\n",
       "    </tr>\n",
       "    <tr>\n",
       "      <th>25%</th>\n",
       "      <td>26.250000</td>\n",
       "      <td>25.000000</td>\n",
       "      <td>27.000000</td>\n",
       "    </tr>\n",
       "    <tr>\n",
       "      <th>50%</th>\n",
       "      <td>44.500000</td>\n",
       "      <td>26.000000</td>\n",
       "      <td>28.000000</td>\n",
       "    </tr>\n",
       "    <tr>\n",
       "      <th>75%</th>\n",
       "      <td>62.750000</td>\n",
       "      <td>28.000000</td>\n",
       "      <td>29.000000</td>\n",
       "    </tr>\n",
       "    <tr>\n",
       "      <th>max</th>\n",
       "      <td>81.000000</td>\n",
       "      <td>89.000000</td>\n",
       "      <td>48.000000</td>\n",
       "    </tr>\n",
       "  </tbody>\n",
       "</table>\n",
       "</div>"
      ],
      "text/plain": [
       "       idsensorth  temperatura    humedad\n",
       "count   74.000000    74.000000  74.000000\n",
       "mean    44.500000    27.905405  29.405405\n",
       "std     21.505813     8.623270   4.776997\n",
       "min      8.000000    21.000000  20.000000\n",
       "25%     26.250000    25.000000  27.000000\n",
       "50%     44.500000    26.000000  28.000000\n",
       "75%     62.750000    28.000000  29.000000\n",
       "max     81.000000    89.000000  48.000000"
      ]
     },
     "execution_count": 7,
     "metadata": {},
     "output_type": "execute_result"
    }
   ],
   "source": [
    "df.describe()"
   ]
  },
  {
   "cell_type": "code",
   "execution_count": null,
   "id": "saving-external",
   "metadata": {},
   "outputs": [],
   "source": []
  },
  {
   "cell_type": "markdown",
   "id": "placed-remove",
   "metadata": {},
   "source": [
    "# Observamos los valores Máximos \n"
   ]
  },
  {
   "cell_type": "code",
   "execution_count": null,
   "id": "northern-albania",
   "metadata": {},
   "outputs": [],
   "source": []
  },
  {
   "cell_type": "code",
   "execution_count": 8,
   "id": "lucky-gasoline",
   "metadata": {},
   "outputs": [
    {
     "data": {
      "text/plain": [
       "idsensorth                      81\n",
       "temperatura                     89\n",
       "humedad                         48\n",
       "fecha          2021-03-08 08:51:11\n",
       "dtype: object"
      ]
     },
     "execution_count": 8,
     "metadata": {},
     "output_type": "execute_result"
    }
   ],
   "source": [
    "df.max()"
   ]
  },
  {
   "cell_type": "code",
   "execution_count": null,
   "id": "ultimate-senior",
   "metadata": {},
   "outputs": [],
   "source": []
  },
  {
   "cell_type": "markdown",
   "id": "magnetic-medicine",
   "metadata": {},
   "source": [
    "# Observamos los valores Mínimos"
   ]
  },
  {
   "cell_type": "code",
   "execution_count": null,
   "id": "practical-jumping",
   "metadata": {},
   "outputs": [],
   "source": []
  },
  {
   "cell_type": "code",
   "execution_count": 9,
   "id": "underlying-lunch",
   "metadata": {},
   "outputs": [
    {
     "data": {
      "text/plain": [
       "idsensorth                       8\n",
       "temperatura                     21\n",
       "humedad                         20\n",
       "fecha          2020-11-22 05:21:24\n",
       "dtype: object"
      ]
     },
     "execution_count": 9,
     "metadata": {},
     "output_type": "execute_result"
    }
   ],
   "source": [
    "df.min()"
   ]
  },
  {
   "cell_type": "markdown",
   "id": "related-insertion",
   "metadata": {},
   "source": [
    "# Observamos el promedio"
   ]
  },
  {
   "cell_type": "code",
   "execution_count": 36,
   "id": "protecting-indonesia",
   "metadata": {},
   "outputs": [
    {
     "data": {
      "text/plain": [
       "idsensorth     17.50\n",
       "temperatura    33.60\n",
       "humedad        34.35\n",
       "dtype: float64"
      ]
     },
     "execution_count": 36,
     "metadata": {},
     "output_type": "execute_result"
    }
   ],
   "source": [
    "df.mean()"
   ]
  },
  {
   "cell_type": "markdown",
   "id": "discrete-amazon",
   "metadata": {},
   "source": [
    "# Observamos la mediana"
   ]
  },
  {
   "cell_type": "code",
   "execution_count": 37,
   "id": "adopted-employee",
   "metadata": {},
   "outputs": [
    {
     "data": {
      "text/plain": [
       "idsensorth     17.5\n",
       "temperatura    29.0\n",
       "humedad        38.0\n",
       "dtype: float64"
      ]
     },
     "execution_count": 37,
     "metadata": {},
     "output_type": "execute_result"
    }
   ],
   "source": [
    "df.median()"
   ]
  },
  {
   "cell_type": "markdown",
   "id": "military-entertainment",
   "metadata": {},
   "source": [
    "# Observamos la varianza"
   ]
  },
  {
   "cell_type": "code",
   "execution_count": 38,
   "id": "distinct-return",
   "metadata": {},
   "outputs": [
    {
     "data": {
      "text/plain": [
       "idsensorth      35.000000\n",
       "temperatura    230.989474\n",
       "humedad         48.555263\n",
       "dtype: float64"
      ]
     },
     "execution_count": 38,
     "metadata": {},
     "output_type": "execute_result"
    }
   ],
   "source": [
    "df.var()"
   ]
  },
  {
   "cell_type": "markdown",
   "id": "limited-person",
   "metadata": {},
   "source": [
    "# Observamos las columnas de nuestra tabla"
   ]
  },
  {
   "cell_type": "code",
   "execution_count": 41,
   "id": "aquatic-manufacturer",
   "metadata": {},
   "outputs": [
    {
     "data": {
      "text/plain": [
       "Index(['idsensorth', 'temperatura', 'humedad', 'fecha'], dtype='object')"
      ]
     },
     "execution_count": 41,
     "metadata": {},
     "output_type": "execute_result"
    }
   ],
   "source": [
    "df.columns"
   ]
  },
  {
   "cell_type": "markdown",
   "id": "industrial-disaster",
   "metadata": {},
   "source": [
    "# Seleccionamos solo los datos de la temperatura"
   ]
  },
  {
   "cell_type": "code",
   "execution_count": 40,
   "id": "coupled-driving",
   "metadata": {},
   "outputs": [
    {
     "data": {
      "text/plain": [
       "0     29\n",
       "1     29\n",
       "2     29\n",
       "3     29\n",
       "4     30\n",
       "5     29\n",
       "6     29\n",
       "7     40\n",
       "8     89\n",
       "9     49\n",
       "10    49\n",
       "11    40\n",
       "12    23\n",
       "13    29\n",
       "14    29\n",
       "15    25\n",
       "16    23\n",
       "17    22\n",
       "18    25\n",
       "19    25\n",
       "Name: temperatura, dtype: int64"
      ]
     },
     "execution_count": 40,
     "metadata": {},
     "output_type": "execute_result"
    }
   ],
   "source": [
    "df[\"temperatura\"]"
   ]
  },
  {
   "cell_type": "markdown",
   "id": "polish-ordinary",
   "metadata": {},
   "source": [
    "# Seleccionamos solo los datos de la humedad"
   ]
  },
  {
   "cell_type": "code",
   "execution_count": 43,
   "id": "increased-vanilla",
   "metadata": {},
   "outputs": [
    {
     "data": {
      "text/plain": [
       "0     38\n",
       "1     38\n",
       "2     38\n",
       "3     38\n",
       "4     38\n",
       "5     24\n",
       "6     38\n",
       "7     38\n",
       "8     38\n",
       "9     38\n",
       "10    48\n",
       "11    40\n",
       "12    20\n",
       "13    38\n",
       "14    38\n",
       "15    28\n",
       "16    27\n",
       "17    26\n",
       "18    28\n",
       "19    28\n",
       "Name: humedad, dtype: int64"
      ]
     },
     "execution_count": 43,
     "metadata": {},
     "output_type": "execute_result"
    }
   ],
   "source": [
    "df[\"humedad\"]"
   ]
  },
  {
   "cell_type": "markdown",
   "id": "respected-component",
   "metadata": {},
   "source": [
    "# Observamos los datos Correlativos"
   ]
  },
  {
   "cell_type": "code",
   "execution_count": 11,
   "id": "fixed-breeding",
   "metadata": {},
   "outputs": [
    {
     "data": {
      "text/html": [
       "<div>\n",
       "<style scoped>\n",
       "    .dataframe tbody tr th:only-of-type {\n",
       "        vertical-align: middle;\n",
       "    }\n",
       "\n",
       "    .dataframe tbody tr th {\n",
       "        vertical-align: top;\n",
       "    }\n",
       "\n",
       "    .dataframe thead th {\n",
       "        text-align: right;\n",
       "    }\n",
       "</style>\n",
       "<table border=\"1\" class=\"dataframe\">\n",
       "  <thead>\n",
       "    <tr style=\"text-align: right;\">\n",
       "      <th></th>\n",
       "      <th>idsensorth</th>\n",
       "      <th>temperatura</th>\n",
       "      <th>humedad</th>\n",
       "    </tr>\n",
       "  </thead>\n",
       "  <tbody>\n",
       "    <tr>\n",
       "      <th>idsensorth</th>\n",
       "      <td>1.000000</td>\n",
       "      <td>-0.255394</td>\n",
       "      <td>-0.462429</td>\n",
       "    </tr>\n",
       "    <tr>\n",
       "      <th>temperatura</th>\n",
       "      <td>-0.255394</td>\n",
       "      <td>1.000000</td>\n",
       "      <td>0.592541</td>\n",
       "    </tr>\n",
       "    <tr>\n",
       "      <th>humedad</th>\n",
       "      <td>-0.462429</td>\n",
       "      <td>0.592541</td>\n",
       "      <td>1.000000</td>\n",
       "    </tr>\n",
       "  </tbody>\n",
       "</table>\n",
       "</div>"
      ],
      "text/plain": [
       "             idsensorth  temperatura   humedad\n",
       "idsensorth     1.000000    -0.255394 -0.462429\n",
       "temperatura   -0.255394     1.000000  0.592541\n",
       "humedad       -0.462429     0.592541  1.000000"
      ]
     },
     "execution_count": 11,
     "metadata": {},
     "output_type": "execute_result"
    }
   ],
   "source": [
    "df.corr()"
   ]
  },
  {
   "cell_type": "markdown",
   "id": "chubby-actress",
   "metadata": {},
   "source": [
    "# Extraemos los primeros 15 datos "
   ]
  },
  {
   "cell_type": "code",
   "execution_count": 13,
   "id": "remarkable-bhutan",
   "metadata": {},
   "outputs": [
    {
     "data": {
      "text/html": [
       "<div>\n",
       "<style scoped>\n",
       "    .dataframe tbody tr th:only-of-type {\n",
       "        vertical-align: middle;\n",
       "    }\n",
       "\n",
       "    .dataframe tbody tr th {\n",
       "        vertical-align: top;\n",
       "    }\n",
       "\n",
       "    .dataframe thead th {\n",
       "        text-align: right;\n",
       "    }\n",
       "</style>\n",
       "<table border=\"1\" class=\"dataframe\">\n",
       "  <thead>\n",
       "    <tr style=\"text-align: right;\">\n",
       "      <th></th>\n",
       "      <th>idsensorth</th>\n",
       "      <th>temperatura</th>\n",
       "      <th>humedad</th>\n",
       "      <th>fecha</th>\n",
       "    </tr>\n",
       "  </thead>\n",
       "  <tbody>\n",
       "    <tr>\n",
       "      <th>0</th>\n",
       "      <td>8</td>\n",
       "      <td>29</td>\n",
       "      <td>38</td>\n",
       "      <td>2020-11-22 05:21:24</td>\n",
       "    </tr>\n",
       "    <tr>\n",
       "      <th>1</th>\n",
       "      <td>9</td>\n",
       "      <td>29</td>\n",
       "      <td>38</td>\n",
       "      <td>2020-11-22 05:44:05</td>\n",
       "    </tr>\n",
       "    <tr>\n",
       "      <th>2</th>\n",
       "      <td>10</td>\n",
       "      <td>29</td>\n",
       "      <td>38</td>\n",
       "      <td>2020-11-22 05:44:15</td>\n",
       "    </tr>\n",
       "    <tr>\n",
       "      <th>3</th>\n",
       "      <td>11</td>\n",
       "      <td>29</td>\n",
       "      <td>38</td>\n",
       "      <td>2020-11-22 05:44:27</td>\n",
       "    </tr>\n",
       "    <tr>\n",
       "      <th>4</th>\n",
       "      <td>12</td>\n",
       "      <td>30</td>\n",
       "      <td>38</td>\n",
       "      <td>2020-11-22 05:45:03</td>\n",
       "    </tr>\n",
       "    <tr>\n",
       "      <th>5</th>\n",
       "      <td>13</td>\n",
       "      <td>29</td>\n",
       "      <td>24</td>\n",
       "      <td>2020-11-24 11:12:22</td>\n",
       "    </tr>\n",
       "    <tr>\n",
       "      <th>6</th>\n",
       "      <td>14</td>\n",
       "      <td>29</td>\n",
       "      <td>38</td>\n",
       "      <td>2020-11-27 05:34:16</td>\n",
       "    </tr>\n",
       "    <tr>\n",
       "      <th>7</th>\n",
       "      <td>15</td>\n",
       "      <td>40</td>\n",
       "      <td>38</td>\n",
       "      <td>2020-11-27 05:35:02</td>\n",
       "    </tr>\n",
       "    <tr>\n",
       "      <th>8</th>\n",
       "      <td>16</td>\n",
       "      <td>89</td>\n",
       "      <td>38</td>\n",
       "      <td>2020-11-27 05:35:11</td>\n",
       "    </tr>\n",
       "    <tr>\n",
       "      <th>9</th>\n",
       "      <td>17</td>\n",
       "      <td>49</td>\n",
       "      <td>38</td>\n",
       "      <td>2020-11-27 05:36:56</td>\n",
       "    </tr>\n",
       "    <tr>\n",
       "      <th>10</th>\n",
       "      <td>18</td>\n",
       "      <td>49</td>\n",
       "      <td>48</td>\n",
       "      <td>2020-11-27 05:37:09</td>\n",
       "    </tr>\n",
       "    <tr>\n",
       "      <th>11</th>\n",
       "      <td>19</td>\n",
       "      <td>40</td>\n",
       "      <td>40</td>\n",
       "      <td>2020-12-01 09:31:01</td>\n",
       "    </tr>\n",
       "    <tr>\n",
       "      <th>12</th>\n",
       "      <td>20</td>\n",
       "      <td>23</td>\n",
       "      <td>20</td>\n",
       "      <td>2020-12-01 09:31:19</td>\n",
       "    </tr>\n",
       "    <tr>\n",
       "      <th>13</th>\n",
       "      <td>21</td>\n",
       "      <td>29</td>\n",
       "      <td>38</td>\n",
       "      <td>2020-12-02 06:46:05</td>\n",
       "    </tr>\n",
       "    <tr>\n",
       "      <th>14</th>\n",
       "      <td>22</td>\n",
       "      <td>29</td>\n",
       "      <td>38</td>\n",
       "      <td>2021-03-08 08:29:25</td>\n",
       "    </tr>\n",
       "  </tbody>\n",
       "</table>\n",
       "</div>"
      ],
      "text/plain": [
       "    idsensorth  temperatura  humedad                fecha\n",
       "0            8           29       38  2020-11-22 05:21:24\n",
       "1            9           29       38  2020-11-22 05:44:05\n",
       "2           10           29       38  2020-11-22 05:44:15\n",
       "3           11           29       38  2020-11-22 05:44:27\n",
       "4           12           30       38  2020-11-22 05:45:03\n",
       "5           13           29       24  2020-11-24 11:12:22\n",
       "6           14           29       38  2020-11-27 05:34:16\n",
       "7           15           40       38  2020-11-27 05:35:02\n",
       "8           16           89       38  2020-11-27 05:35:11\n",
       "9           17           49       38  2020-11-27 05:36:56\n",
       "10          18           49       48  2020-11-27 05:37:09\n",
       "11          19           40       40  2020-12-01 09:31:01\n",
       "12          20           23       20  2020-12-01 09:31:19\n",
       "13          21           29       38  2020-12-02 06:46:05\n",
       "14          22           29       38  2021-03-08 08:29:25"
      ]
     },
     "execution_count": 13,
     "metadata": {},
     "output_type": "execute_result"
    }
   ],
   "source": [
    "df.head(15)"
   ]
  },
  {
   "cell_type": "markdown",
   "id": "dense-lunch",
   "metadata": {},
   "source": [
    "# Organizamos los datos por fecha de los primeros 20 números"
   ]
  },
  {
   "cell_type": "code",
   "execution_count": 14,
   "id": "bottom-carolina",
   "metadata": {},
   "outputs": [],
   "source": [
    "df = df.head(20).sort_values(by='fecha')"
   ]
  },
  {
   "cell_type": "code",
   "execution_count": 44,
   "id": "sealed-citizenship",
   "metadata": {},
   "outputs": [
    {
     "data": {
      "text/html": [
       "<div>\n",
       "<style scoped>\n",
       "    .dataframe tbody tr th:only-of-type {\n",
       "        vertical-align: middle;\n",
       "    }\n",
       "\n",
       "    .dataframe tbody tr th {\n",
       "        vertical-align: top;\n",
       "    }\n",
       "\n",
       "    .dataframe thead th {\n",
       "        text-align: right;\n",
       "    }\n",
       "</style>\n",
       "<table border=\"1\" class=\"dataframe\">\n",
       "  <thead>\n",
       "    <tr style=\"text-align: right;\">\n",
       "      <th></th>\n",
       "      <th>idsensorth</th>\n",
       "      <th>temperatura</th>\n",
       "      <th>humedad</th>\n",
       "      <th>fecha</th>\n",
       "    </tr>\n",
       "  </thead>\n",
       "  <tbody>\n",
       "    <tr>\n",
       "      <th>0</th>\n",
       "      <td>8</td>\n",
       "      <td>29</td>\n",
       "      <td>38</td>\n",
       "      <td>2020-11-22 05:21:24</td>\n",
       "    </tr>\n",
       "    <tr>\n",
       "      <th>1</th>\n",
       "      <td>9</td>\n",
       "      <td>29</td>\n",
       "      <td>38</td>\n",
       "      <td>2020-11-22 05:44:05</td>\n",
       "    </tr>\n",
       "    <tr>\n",
       "      <th>2</th>\n",
       "      <td>10</td>\n",
       "      <td>29</td>\n",
       "      <td>38</td>\n",
       "      <td>2020-11-22 05:44:15</td>\n",
       "    </tr>\n",
       "    <tr>\n",
       "      <th>3</th>\n",
       "      <td>11</td>\n",
       "      <td>29</td>\n",
       "      <td>38</td>\n",
       "      <td>2020-11-22 05:44:27</td>\n",
       "    </tr>\n",
       "    <tr>\n",
       "      <th>4</th>\n",
       "      <td>12</td>\n",
       "      <td>30</td>\n",
       "      <td>38</td>\n",
       "      <td>2020-11-22 05:45:03</td>\n",
       "    </tr>\n",
       "    <tr>\n",
       "      <th>5</th>\n",
       "      <td>13</td>\n",
       "      <td>29</td>\n",
       "      <td>24</td>\n",
       "      <td>2020-11-24 11:12:22</td>\n",
       "    </tr>\n",
       "    <tr>\n",
       "      <th>6</th>\n",
       "      <td>14</td>\n",
       "      <td>29</td>\n",
       "      <td>38</td>\n",
       "      <td>2020-11-27 05:34:16</td>\n",
       "    </tr>\n",
       "    <tr>\n",
       "      <th>7</th>\n",
       "      <td>15</td>\n",
       "      <td>40</td>\n",
       "      <td>38</td>\n",
       "      <td>2020-11-27 05:35:02</td>\n",
       "    </tr>\n",
       "    <tr>\n",
       "      <th>8</th>\n",
       "      <td>16</td>\n",
       "      <td>89</td>\n",
       "      <td>38</td>\n",
       "      <td>2020-11-27 05:35:11</td>\n",
       "    </tr>\n",
       "    <tr>\n",
       "      <th>9</th>\n",
       "      <td>17</td>\n",
       "      <td>49</td>\n",
       "      <td>38</td>\n",
       "      <td>2020-11-27 05:36:56</td>\n",
       "    </tr>\n",
       "    <tr>\n",
       "      <th>10</th>\n",
       "      <td>18</td>\n",
       "      <td>49</td>\n",
       "      <td>48</td>\n",
       "      <td>2020-11-27 05:37:09</td>\n",
       "    </tr>\n",
       "    <tr>\n",
       "      <th>11</th>\n",
       "      <td>19</td>\n",
       "      <td>40</td>\n",
       "      <td>40</td>\n",
       "      <td>2020-12-01 09:31:01</td>\n",
       "    </tr>\n",
       "    <tr>\n",
       "      <th>12</th>\n",
       "      <td>20</td>\n",
       "      <td>23</td>\n",
       "      <td>20</td>\n",
       "      <td>2020-12-01 09:31:19</td>\n",
       "    </tr>\n",
       "    <tr>\n",
       "      <th>13</th>\n",
       "      <td>21</td>\n",
       "      <td>29</td>\n",
       "      <td>38</td>\n",
       "      <td>2020-12-02 06:46:05</td>\n",
       "    </tr>\n",
       "    <tr>\n",
       "      <th>14</th>\n",
       "      <td>22</td>\n",
       "      <td>29</td>\n",
       "      <td>38</td>\n",
       "      <td>2021-03-08 08:29:25</td>\n",
       "    </tr>\n",
       "    <tr>\n",
       "      <th>15</th>\n",
       "      <td>23</td>\n",
       "      <td>25</td>\n",
       "      <td>28</td>\n",
       "      <td>2021-03-08 08:30:30</td>\n",
       "    </tr>\n",
       "    <tr>\n",
       "      <th>16</th>\n",
       "      <td>24</td>\n",
       "      <td>23</td>\n",
       "      <td>27</td>\n",
       "      <td>2021-03-08 08:30:59</td>\n",
       "    </tr>\n",
       "    <tr>\n",
       "      <th>17</th>\n",
       "      <td>25</td>\n",
       "      <td>22</td>\n",
       "      <td>26</td>\n",
       "      <td>2021-03-08 08:31:16</td>\n",
       "    </tr>\n",
       "    <tr>\n",
       "      <th>18</th>\n",
       "      <td>26</td>\n",
       "      <td>25</td>\n",
       "      <td>28</td>\n",
       "      <td>2021-03-08 08:31:41</td>\n",
       "    </tr>\n",
       "    <tr>\n",
       "      <th>19</th>\n",
       "      <td>27</td>\n",
       "      <td>25</td>\n",
       "      <td>28</td>\n",
       "      <td>2021-03-08 08:40:39</td>\n",
       "    </tr>\n",
       "  </tbody>\n",
       "</table>\n",
       "</div>"
      ],
      "text/plain": [
       "    idsensorth  temperatura  humedad                fecha\n",
       "0            8           29       38  2020-11-22 05:21:24\n",
       "1            9           29       38  2020-11-22 05:44:05\n",
       "2           10           29       38  2020-11-22 05:44:15\n",
       "3           11           29       38  2020-11-22 05:44:27\n",
       "4           12           30       38  2020-11-22 05:45:03\n",
       "5           13           29       24  2020-11-24 11:12:22\n",
       "6           14           29       38  2020-11-27 05:34:16\n",
       "7           15           40       38  2020-11-27 05:35:02\n",
       "8           16           89       38  2020-11-27 05:35:11\n",
       "9           17           49       38  2020-11-27 05:36:56\n",
       "10          18           49       48  2020-11-27 05:37:09\n",
       "11          19           40       40  2020-12-01 09:31:01\n",
       "12          20           23       20  2020-12-01 09:31:19\n",
       "13          21           29       38  2020-12-02 06:46:05\n",
       "14          22           29       38  2021-03-08 08:29:25\n",
       "15          23           25       28  2021-03-08 08:30:30\n",
       "16          24           23       27  2021-03-08 08:30:59\n",
       "17          25           22       26  2021-03-08 08:31:16\n",
       "18          26           25       28  2021-03-08 08:31:41\n",
       "19          27           25       28  2021-03-08 08:40:39"
      ]
     },
     "execution_count": 44,
     "metadata": {},
     "output_type": "execute_result"
    }
   ],
   "source": [
    "df"
   ]
  },
  {
   "cell_type": "code",
   "execution_count": null,
   "id": "quick-anatomy",
   "metadata": {},
   "outputs": [],
   "source": []
  },
  {
   "cell_type": "markdown",
   "id": "supposed-theorem",
   "metadata": {},
   "source": [
    "# Mostramos los índices de la información"
   ]
  },
  {
   "cell_type": "code",
   "execution_count": 16,
   "id": "affecting-store",
   "metadata": {},
   "outputs": [
    {
     "data": {
      "text/plain": [
       "Int64Index([0, 1, 2, 3, 4, 5, 6, 7, 8, 9, 10, 11, 12, 13, 14, 15, 16, 17, 18,\n",
       "            19],\n",
       "           dtype='int64')"
      ]
     },
     "execution_count": 16,
     "metadata": {},
     "output_type": "execute_result"
    }
   ],
   "source": [
    "df.index"
   ]
  },
  {
   "cell_type": "markdown",
   "id": "guided-prefix",
   "metadata": {},
   "source": [
    "# Obtenemos el valor único de temperatura"
   ]
  },
  {
   "cell_type": "code",
   "execution_count": 17,
   "id": "automatic-wayne",
   "metadata": {},
   "outputs": [
    {
     "data": {
      "text/plain": [
       "array([29, 30, 40, 89, 49, 23, 25, 22])"
      ]
     },
     "execution_count": 17,
     "metadata": {},
     "output_type": "execute_result"
    }
   ],
   "source": [
    "df.temperatura.unique()"
   ]
  },
  {
   "cell_type": "markdown",
   "id": "wooden-assurance",
   "metadata": {},
   "source": [
    "# Importamos nuevas librerías"
   ]
  },
  {
   "cell_type": "code",
   "execution_count": 18,
   "id": "polar-karaoke",
   "metadata": {},
   "outputs": [],
   "source": [
    "# Numpy operaciones de matrices \n",
    "import numpy as np \n",
    "# seaborn es para graficar y hacer comparativos\n",
    "import seaborn as sns \n",
    " \n",
    "# Graficas de forma general \n",
    "#import matplotlib as plt \n",
    "from matplotlib import pyplot as plt \n",
    "%matplotlib inline"
   ]
  },
  {
   "cell_type": "markdown",
   "id": "going-villa",
   "metadata": {},
   "source": [
    "# Relacionamos la temperatura y humedad"
   ]
  },
  {
   "cell_type": "code",
   "execution_count": 19,
   "id": "amateur-guarantee",
   "metadata": {},
   "outputs": [],
   "source": [
    "relation = df[['temperatura','humedad']]"
   ]
  },
  {
   "cell_type": "code",
   "execution_count": 24,
   "id": "interested-tension",
   "metadata": {},
   "outputs": [
    {
     "data": {
      "text/html": [
       "<div>\n",
       "<style scoped>\n",
       "    .dataframe tbody tr th:only-of-type {\n",
       "        vertical-align: middle;\n",
       "    }\n",
       "\n",
       "    .dataframe tbody tr th {\n",
       "        vertical-align: top;\n",
       "    }\n",
       "\n",
       "    .dataframe thead th {\n",
       "        text-align: right;\n",
       "    }\n",
       "</style>\n",
       "<table border=\"1\" class=\"dataframe\">\n",
       "  <thead>\n",
       "    <tr style=\"text-align: right;\">\n",
       "      <th></th>\n",
       "      <th>temperatura</th>\n",
       "      <th>humedad</th>\n",
       "    </tr>\n",
       "  </thead>\n",
       "  <tbody>\n",
       "    <tr>\n",
       "      <th>0</th>\n",
       "      <td>29</td>\n",
       "      <td>38</td>\n",
       "    </tr>\n",
       "    <tr>\n",
       "      <th>1</th>\n",
       "      <td>29</td>\n",
       "      <td>38</td>\n",
       "    </tr>\n",
       "    <tr>\n",
       "      <th>2</th>\n",
       "      <td>29</td>\n",
       "      <td>38</td>\n",
       "    </tr>\n",
       "    <tr>\n",
       "      <th>3</th>\n",
       "      <td>29</td>\n",
       "      <td>38</td>\n",
       "    </tr>\n",
       "    <tr>\n",
       "      <th>4</th>\n",
       "      <td>30</td>\n",
       "      <td>38</td>\n",
       "    </tr>\n",
       "    <tr>\n",
       "      <th>5</th>\n",
       "      <td>29</td>\n",
       "      <td>24</td>\n",
       "    </tr>\n",
       "    <tr>\n",
       "      <th>6</th>\n",
       "      <td>29</td>\n",
       "      <td>38</td>\n",
       "    </tr>\n",
       "    <tr>\n",
       "      <th>7</th>\n",
       "      <td>40</td>\n",
       "      <td>38</td>\n",
       "    </tr>\n",
       "    <tr>\n",
       "      <th>8</th>\n",
       "      <td>89</td>\n",
       "      <td>38</td>\n",
       "    </tr>\n",
       "    <tr>\n",
       "      <th>9</th>\n",
       "      <td>49</td>\n",
       "      <td>38</td>\n",
       "    </tr>\n",
       "    <tr>\n",
       "      <th>10</th>\n",
       "      <td>49</td>\n",
       "      <td>48</td>\n",
       "    </tr>\n",
       "    <tr>\n",
       "      <th>11</th>\n",
       "      <td>40</td>\n",
       "      <td>40</td>\n",
       "    </tr>\n",
       "    <tr>\n",
       "      <th>12</th>\n",
       "      <td>23</td>\n",
       "      <td>20</td>\n",
       "    </tr>\n",
       "    <tr>\n",
       "      <th>13</th>\n",
       "      <td>29</td>\n",
       "      <td>38</td>\n",
       "    </tr>\n",
       "    <tr>\n",
       "      <th>14</th>\n",
       "      <td>29</td>\n",
       "      <td>38</td>\n",
       "    </tr>\n",
       "    <tr>\n",
       "      <th>15</th>\n",
       "      <td>25</td>\n",
       "      <td>28</td>\n",
       "    </tr>\n",
       "    <tr>\n",
       "      <th>16</th>\n",
       "      <td>23</td>\n",
       "      <td>27</td>\n",
       "    </tr>\n",
       "    <tr>\n",
       "      <th>17</th>\n",
       "      <td>22</td>\n",
       "      <td>26</td>\n",
       "    </tr>\n",
       "    <tr>\n",
       "      <th>18</th>\n",
       "      <td>25</td>\n",
       "      <td>28</td>\n",
       "    </tr>\n",
       "    <tr>\n",
       "      <th>19</th>\n",
       "      <td>25</td>\n",
       "      <td>28</td>\n",
       "    </tr>\n",
       "  </tbody>\n",
       "</table>\n",
       "</div>"
      ],
      "text/plain": [
       "    temperatura  humedad\n",
       "0            29       38\n",
       "1            29       38\n",
       "2            29       38\n",
       "3            29       38\n",
       "4            30       38\n",
       "5            29       24\n",
       "6            29       38\n",
       "7            40       38\n",
       "8            89       38\n",
       "9            49       38\n",
       "10           49       48\n",
       "11           40       40\n",
       "12           23       20\n",
       "13           29       38\n",
       "14           29       38\n",
       "15           25       28\n",
       "16           23       27\n",
       "17           22       26\n",
       "18           25       28\n",
       "19           25       28"
      ]
     },
     "execution_count": 24,
     "metadata": {},
     "output_type": "execute_result"
    }
   ],
   "source": [
    "relation.head(20)"
   ]
  },
  {
   "cell_type": "markdown",
   "id": "curious-reynolds",
   "metadata": {},
   "source": [
    "# Visualizamos la relación que existe entre la temperatura y humedad por medio de graficas"
   ]
  },
  {
   "cell_type": "code",
   "execution_count": 25,
   "id": "affected-noise",
   "metadata": {},
   "outputs": [
    {
     "data": {
      "image/png": "[encoded data removed]",
      "text/plain": [
       "<Figure size 360x360 with 6 Axes>"
      ]
     },
     "metadata": {
      "needs_background": "light"
     },
     "output_type": "display_data"
    }
   ],
   "source": [
    "sns.pairplot(relation, kind ='reg')\n",
    "plt.show()"
   ]
  },
  {
   "cell_type": "markdown",
   "id": "stock-richmond",
   "metadata": {},
   "source": [
    "# Visualizamos de manera detallada la relación de 45 datos"
   ]
  },
  {
   "cell_type": "code",
   "execution_count": 30,
   "id": "absolute-drunk",
   "metadata": {},
   "outputs": [],
   "source": [
    "portiondata = relation.head(45)"
   ]
  },
  {
   "cell_type": "code",
   "execution_count": 31,
   "id": "legal-player",
   "metadata": {},
   "outputs": [
    {
     "data": {
      "image/png": "[encoded data removed]",
      "text/plain": [
       "<Figure size 360x360 with 6 Axes>"
      ]
     },
     "metadata": {
      "needs_background": "light"
     },
     "output_type": "display_data"
    }
   ],
   "source": [
    "sns.pairplot(portiondata, kind ='reg')\n",
    "plt.show()"
   ]
  },
  {
   "cell_type": "markdown",
   "id": "covered-thousand",
   "metadata": {},
   "source": [
    "# Accedemos a explorar únicamente los datos de temperatura con una gráfica diferente"
   ]
  },
  {
   "cell_type": "code",
   "execution_count": 32,
   "id": "mineral-volunteer",
   "metadata": {},
   "outputs": [
    {
     "data": {
      "text/plain": [
       "<matplotlib.axes._subplots.AxesSubplot at 0x7faef1dc7208>"
      ]
     },
     "execution_count": 32,
     "metadata": {},
     "output_type": "execute_result"
    },
    {
     "data": {
      "image/png": "[encoded data removed]",
      "text/plain": [
       "<Figure size 432x288 with 1 Axes>"
      ]
     },
     "metadata": {
      "needs_background": "light"
     },
     "output_type": "display_data"
    }
   ],
   "source": [
    "sns.distplot(df.temperatura)"
   ]
  },
  {
   "cell_type": "markdown",
   "id": "aboriginal-routine",
   "metadata": {},
   "source": [
    "# Accedemos a explorar únicamente los datos de la humedad con una gráfica diferente"
   ]
  },
  {
   "cell_type": "code",
   "execution_count": 33,
   "id": "square-grant",
   "metadata": {},
   "outputs": [
    {
     "data": {
      "text/plain": [
       "<matplotlib.axes._subplots.AxesSubplot at 0x7faef1f9e3c8>"
      ]
     },
     "execution_count": 33,
     "metadata": {},
     "output_type": "execute_result"
    },
    {
     "data": {
      "image/png": "[encoded data removed]",
      "text/plain": [
       "<Figure size 432x288 with 1 Axes>"
      ]
     },
     "metadata": {
      "needs_background": "light"
     },
     "output_type": "display_data"
    }
   ],
   "source": [
    "sns.distplot(df.humedad)"
   ]
  },
  {
   "cell_type": "markdown",
   "id": "impossible-sierra",
   "metadata": {},
   "source": [
    "# Visualizamos la regresión de nuestro dataframe"
   ]
  },
  {
   "cell_type": "code",
   "execution_count": 30,
   "id": "round-analysis",
   "metadata": {},
   "outputs": [
    {
     "data": {
      "text/plain": [
       "<seaborn.axisgrid.FacetGrid at 0x7f02dbb1ef60>"
      ]
     },
     "execution_count": 30,
     "metadata": {},
     "output_type": "execute_result"
    },
    {
     "data": {
      "image/png": "[encoded data removed]",
      "text/plain": [
       "<Figure size 360x360 with 1 Axes>"
      ]
     },
     "metadata": {
      "needs_background": "light"
     },
     "output_type": "display_data"
    }
   ],
   "source": [
    "sns.lmplot(x='temperatura', y='humedad', data=df)"
   ]
  },
  {
   "cell_type": "code",
   "execution_count": 34,
   "id": "geological-savannah",
   "metadata": {},
   "outputs": [
    {
     "data": {
      "text/plain": [
       "<seaborn.axisgrid.FacetGrid at 0x7faef1fef5c0>"
      ]
     },
     "execution_count": 34,
     "metadata": {},
     "output_type": "execute_result"
    },
    {
     "data": {
      "image/png": "[encoded data removed]",
      "text/plain": [
       "<Figure size 360x360 with 1 Axes>"
      ]
     },
     "metadata": {
      "needs_background": "light"
     },
     "output_type": "display_data"
    }
   ],
   "source": [
    "sns.lmplot(x='humedad', y='temperatura', data=df)"
   ]
  },
  {
   "cell_type": "markdown",
   "id": "behind-station",
   "metadata": {},
   "source": [
    "# Visualizamos la dispersión e histogramas de la temperatura y humedad"
   ]
  },
  {
   "cell_type": "code",
   "execution_count": 35,
   "id": "involved-triumph",
   "metadata": {},
   "outputs": [
    {
     "data": {
      "text/plain": [
       "<seaborn.axisgrid.JointGrid at 0x7faef198f6d8>"
      ]
     },
     "execution_count": 35,
     "metadata": {},
     "output_type": "execute_result"
    },
    {
     "data": {
      "image/png": "[encoded data removed]",
      "text/plain": [
       "<Figure size 432x432 with 3 Axes>"
      ]
     },
     "metadata": {
      "needs_background": "light"
     },
     "output_type": "display_data"
    }
   ],
   "source": [
    "sns.jointplot(x='temperatura', y='humedad', data=df)"
   ]
  },
  {
   "cell_type": "code",
   "execution_count": null,
   "id": "signed-republican",
   "metadata": {},
   "outputs": [],
   "source": []
  },
  {
   "cell_type": "code",
   "execution_count": null,
   "id": "ruled-powell",
   "metadata": {},
   "outputs": [],
   "source": []
  },
  {
   "cell_type": "code",
   "execution_count": null,
   "id": "exclusive-louisiana",
   "metadata": {},
   "outputs": [],
   "source": []
  },
  {
   "cell_type": "code",
   "execution_count": null,
   "id": "geological-ratio",
   "metadata": {},
   "outputs": [],
   "source": []
  },
  {
   "cell_type": "code",
   "execution_count": null,
   "id": "curious-nylon",
   "metadata": {},
   "outputs": [],
   "source": []
  },
  {
   "cell_type": "code",
   "execution_count": null,
   "id": "spatial-spain",
   "metadata": {},
   "outputs": [],
   "source": []
  },
  {
   "cell_type": "code",
   "execution_count": null,
   "id": "colored-differential",
   "metadata": {},
   "outputs": [],
   "source": []
  },
  {
   "cell_type": "code",
   "execution_count": null,
   "id": "engaging-devil",
   "metadata": {},
   "outputs": [],
   "source": []
  },
  {
   "cell_type": "code",
   "execution_count": null,
   "id": "about-medicine",
   "metadata": {},
   "outputs": [],
   "source": []
  },
  {
   "cell_type": "code",
   "execution_count": null,
   "id": "creative-basis",
   "metadata": {},
   "outputs": [],
   "source": []
  }
 ],
 "metadata": {
  "kernelspec": {
   "display_name": "conda_python3",
   "language": "python",
   "name": "conda_python3"
  },
  "language_info": {
   "codemirror_mode": {
    "name": "ipython",
    "version": 3
   },
   "file_extension": ".py",
   "mimetype": "text/x-python",
   "name": "python",
   "nbconvert_exporter": "python",
   "pygments_lexer": "ipython3",
   "version": "3.6.10"
  }
 },
 "nbformat": 4,
 "nbformat_minor": 5
}
