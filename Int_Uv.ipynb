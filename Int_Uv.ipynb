{
 "cells": [
  {
   "cell_type": "markdown",
   "id": "arranged-nancy",
   "metadata": {},
   "source": [
    "# Exploracion De Datos Del Sensor De Intensidad Uv"
   ]
  },
  {
   "cell_type": "code",
   "execution_count": 2,
   "id": "cheap-nylon",
   "metadata": {},
   "outputs": [],
   "source": [
    "import pandas as pd"
   ]
  },
  {
   "cell_type": "markdown",
   "id": "gorgeous-makeup",
   "metadata": {},
   "source": [
    "# Accedemos a nuestra Api"
   ]
  },
  {
   "cell_type": "code",
   "execution_count": 4,
   "id": "judicial-athens",
   "metadata": {},
   "outputs": [],
   "source": [
    "df = pd.read_json(\"Uv.json\")"
   ]
  },
  {
   "cell_type": "markdown",
   "id": "higher-olive",
   "metadata": {},
   "source": [
    "# Verificamos nuestros datos con la variable creada"
   ]
  },
  {
   "cell_type": "code",
   "execution_count": 6,
   "id": "entire-pricing",
   "metadata": {},
   "outputs": [
    {
     "data": {
      "text/html": [
       "<div>\n",
       "<style scoped>\n",
       "    .dataframe tbody tr th:only-of-type {\n",
       "        vertical-align: middle;\n",
       "    }\n",
       "\n",
       "    .dataframe tbody tr th {\n",
       "        vertical-align: top;\n",
       "    }\n",
       "\n",
       "    .dataframe thead th {\n",
       "        text-align: right;\n",
       "    }\n",
       "</style>\n",
       "<table border=\"1\" class=\"dataframe\">\n",
       "  <thead>\n",
       "    <tr style=\"text-align: right;\">\n",
       "      <th></th>\n",
       "      <th>idsensoruv</th>\n",
       "      <th>uvint</th>\n",
       "      <th>fechayhor</th>\n",
       "    </tr>\n",
       "  </thead>\n",
       "  <tbody>\n",
       "    <tr>\n",
       "      <th>0</th>\n",
       "      <td>7</td>\n",
       "      <td>269</td>\n",
       "      <td>2020-11-22 05:27:07</td>\n",
       "    </tr>\n",
       "    <tr>\n",
       "      <th>1</th>\n",
       "      <td>8</td>\n",
       "      <td>269</td>\n",
       "      <td>2020-11-22 05:45:43</td>\n",
       "    </tr>\n",
       "    <tr>\n",
       "      <th>2</th>\n",
       "      <td>9</td>\n",
       "      <td>269</td>\n",
       "      <td>2020-11-22 05:46:07</td>\n",
       "    </tr>\n",
       "    <tr>\n",
       "      <th>3</th>\n",
       "      <td>10</td>\n",
       "      <td>269</td>\n",
       "      <td>2020-11-23 08:09:27</td>\n",
       "    </tr>\n",
       "    <tr>\n",
       "      <th>4</th>\n",
       "      <td>11</td>\n",
       "      <td>269</td>\n",
       "      <td>2020-11-24 07:32:46</td>\n",
       "    </tr>\n",
       "    <tr>\n",
       "      <th>5</th>\n",
       "      <td>12</td>\n",
       "      <td>273</td>\n",
       "      <td>2020-11-24 07:32:59</td>\n",
       "    </tr>\n",
       "    <tr>\n",
       "      <th>6</th>\n",
       "      <td>13</td>\n",
       "      <td>271</td>\n",
       "      <td>2020-11-24 09:44:12</td>\n",
       "    </tr>\n",
       "    <tr>\n",
       "      <th>7</th>\n",
       "      <td>17</td>\n",
       "      <td>273</td>\n",
       "      <td>2020-11-27 07:39:31</td>\n",
       "    </tr>\n",
       "    <tr>\n",
       "      <th>8</th>\n",
       "      <td>18</td>\n",
       "      <td>273</td>\n",
       "      <td>2020-12-02 06:35:19</td>\n",
       "    </tr>\n",
       "    <tr>\n",
       "      <th>9</th>\n",
       "      <td>19</td>\n",
       "      <td>272</td>\n",
       "      <td>2020-12-02 06:37:20</td>\n",
       "    </tr>\n",
       "    <tr>\n",
       "      <th>10</th>\n",
       "      <td>20</td>\n",
       "      <td>273</td>\n",
       "      <td>2020-12-02 06:39:59</td>\n",
       "    </tr>\n",
       "  </tbody>\n",
       "</table>\n",
       "</div>"
      ],
      "text/plain": [
       "    idsensoruv  uvint            fechayhor\n",
       "0            7    269  2020-11-22 05:27:07\n",
       "1            8    269  2020-11-22 05:45:43\n",
       "2            9    269  2020-11-22 05:46:07\n",
       "3           10    269  2020-11-23 08:09:27\n",
       "4           11    269  2020-11-24 07:32:46\n",
       "5           12    273  2020-11-24 07:32:59\n",
       "6           13    271  2020-11-24 09:44:12\n",
       "7           17    273  2020-11-27 07:39:31\n",
       "8           18    273  2020-12-02 06:35:19\n",
       "9           19    272  2020-12-02 06:37:20\n",
       "10          20    273  2020-12-02 06:39:59"
      ]
     },
     "execution_count": 6,
     "metadata": {},
     "output_type": "execute_result"
    }
   ],
   "source": [
    "df"
   ]
  },
  {
   "cell_type": "markdown",
   "id": "casual-verse",
   "metadata": {},
   "source": [
    "# Accedemos a verificar la informacion de nuestra Api"
   ]
  },
  {
   "cell_type": "code",
   "execution_count": 7,
   "id": "ongoing-sense",
   "metadata": {},
   "outputs": [
    {
     "name": "stdout",
     "output_type": "stream",
     "text": [
      "<class 'pandas.core.frame.DataFrame'>\n",
      "RangeIndex: 11 entries, 0 to 10\n",
      "Data columns (total 3 columns):\n",
      " #   Column      Non-Null Count  Dtype \n",
      "---  ------      --------------  ----- \n",
      " 0   idsensoruv  11 non-null     int64 \n",
      " 1   uvint       11 non-null     int64 \n",
      " 2   fechayhor   11 non-null     object\n",
      "dtypes: int64(2), object(1)\n",
      "memory usage: 392.0+ bytes\n"
     ]
    }
   ],
   "source": [
    "df.info()"
   ]
  },
  {
   "cell_type": "markdown",
   "id": "necessary-tender",
   "metadata": {},
   "source": [
    "# Accedemos a sacar los datos estadisticos de nuestra Api"
   ]
  },
  {
   "cell_type": "code",
   "execution_count": 8,
   "id": "pretty-formation",
   "metadata": {},
   "outputs": [
    {
     "data": {
      "text/html": [
       "<div>\n",
       "<style scoped>\n",
       "    .dataframe tbody tr th:only-of-type {\n",
       "        vertical-align: middle;\n",
       "    }\n",
       "\n",
       "    .dataframe tbody tr th {\n",
       "        vertical-align: top;\n",
       "    }\n",
       "\n",
       "    .dataframe thead th {\n",
       "        text-align: right;\n",
       "    }\n",
       "</style>\n",
       "<table border=\"1\" class=\"dataframe\">\n",
       "  <thead>\n",
       "    <tr style=\"text-align: right;\">\n",
       "      <th></th>\n",
       "      <th>idsensoruv</th>\n",
       "      <th>uvint</th>\n",
       "    </tr>\n",
       "  </thead>\n",
       "  <tbody>\n",
       "    <tr>\n",
       "      <th>count</th>\n",
       "      <td>11.000000</td>\n",
       "      <td>11.000000</td>\n",
       "    </tr>\n",
       "    <tr>\n",
       "      <th>mean</th>\n",
       "      <td>13.090909</td>\n",
       "      <td>270.909091</td>\n",
       "    </tr>\n",
       "    <tr>\n",
       "      <th>std</th>\n",
       "      <td>4.657350</td>\n",
       "      <td>1.921174</td>\n",
       "    </tr>\n",
       "    <tr>\n",
       "      <th>min</th>\n",
       "      <td>7.000000</td>\n",
       "      <td>269.000000</td>\n",
       "    </tr>\n",
       "    <tr>\n",
       "      <th>25%</th>\n",
       "      <td>9.500000</td>\n",
       "      <td>269.000000</td>\n",
       "    </tr>\n",
       "    <tr>\n",
       "      <th>50%</th>\n",
       "      <td>12.000000</td>\n",
       "      <td>271.000000</td>\n",
       "    </tr>\n",
       "    <tr>\n",
       "      <th>75%</th>\n",
       "      <td>17.500000</td>\n",
       "      <td>273.000000</td>\n",
       "    </tr>\n",
       "    <tr>\n",
       "      <th>max</th>\n",
       "      <td>20.000000</td>\n",
       "      <td>273.000000</td>\n",
       "    </tr>\n",
       "  </tbody>\n",
       "</table>\n",
       "</div>"
      ],
      "text/plain": [
       "       idsensoruv       uvint\n",
       "count   11.000000   11.000000\n",
       "mean    13.090909  270.909091\n",
       "std      4.657350    1.921174\n",
       "min      7.000000  269.000000\n",
       "25%      9.500000  269.000000\n",
       "50%     12.000000  271.000000\n",
       "75%     17.500000  273.000000\n",
       "max     20.000000  273.000000"
      ]
     },
     "execution_count": 8,
     "metadata": {},
     "output_type": "execute_result"
    }
   ],
   "source": [
    "df.describe()"
   ]
  },
  {
   "cell_type": "markdown",
   "id": "ecological-voltage",
   "metadata": {},
   "source": [
    "# Observamos los valores Maximos"
   ]
  },
  {
   "cell_type": "code",
   "execution_count": 9,
   "id": "listed-wallpaper",
   "metadata": {},
   "outputs": [
    {
     "data": {
      "text/plain": [
       "idsensoruv                     20\n",
       "uvint                         273\n",
       "fechayhor     2020-12-02 06:39:59\n",
       "dtype: object"
      ]
     },
     "execution_count": 9,
     "metadata": {},
     "output_type": "execute_result"
    }
   ],
   "source": [
    "df.max()"
   ]
  },
  {
   "cell_type": "markdown",
   "id": "rough-contact",
   "metadata": {},
   "source": [
    "# Observamos los valores Minimos"
   ]
  },
  {
   "cell_type": "code",
   "execution_count": 10,
   "id": "saved-latin",
   "metadata": {},
   "outputs": [
    {
     "data": {
      "text/plain": [
       "idsensoruv                      7\n",
       "uvint                         269\n",
       "fechayhor     2020-11-22 05:27:07\n",
       "dtype: object"
      ]
     },
     "execution_count": 10,
     "metadata": {},
     "output_type": "execute_result"
    }
   ],
   "source": [
    "df.min()"
   ]
  },
  {
   "cell_type": "markdown",
   "id": "manufactured-alfred",
   "metadata": {},
   "source": [
    "# Observamos las columnas de nuestra tabla"
   ]
  },
  {
   "cell_type": "code",
   "execution_count": 11,
   "id": "unlimited-sheet",
   "metadata": {},
   "outputs": [
    {
     "data": {
      "text/plain": [
       "Index(['idsensoruv', 'uvint', 'fechayhor'], dtype='object')"
      ]
     },
     "execution_count": 11,
     "metadata": {},
     "output_type": "execute_result"
    }
   ],
   "source": [
    "df.columns"
   ]
  },
  {
   "cell_type": "markdown",
   "id": "variable-imaging",
   "metadata": {},
   "source": [
    "# Observamos los datos Correlativos"
   ]
  },
  {
   "cell_type": "code",
   "execution_count": 12,
   "id": "incomplete-version",
   "metadata": {},
   "outputs": [
    {
     "data": {
      "text/html": [
       "<div>\n",
       "<style scoped>\n",
       "    .dataframe tbody tr th:only-of-type {\n",
       "        vertical-align: middle;\n",
       "    }\n",
       "\n",
       "    .dataframe tbody tr th {\n",
       "        vertical-align: top;\n",
       "    }\n",
       "\n",
       "    .dataframe thead th {\n",
       "        text-align: right;\n",
       "    }\n",
       "</style>\n",
       "<table border=\"1\" class=\"dataframe\">\n",
       "  <thead>\n",
       "    <tr style=\"text-align: right;\">\n",
       "      <th></th>\n",
       "      <th>idsensoruv</th>\n",
       "      <th>uvint</th>\n",
       "    </tr>\n",
       "  </thead>\n",
       "  <tbody>\n",
       "    <tr>\n",
       "      <th>idsensoruv</th>\n",
       "      <td>1.000000</td>\n",
       "      <td>0.850408</td>\n",
       "    </tr>\n",
       "    <tr>\n",
       "      <th>uvint</th>\n",
       "      <td>0.850408</td>\n",
       "      <td>1.000000</td>\n",
       "    </tr>\n",
       "  </tbody>\n",
       "</table>\n",
       "</div>"
      ],
      "text/plain": [
       "            idsensoruv     uvint\n",
       "idsensoruv    1.000000  0.850408\n",
       "uvint         0.850408  1.000000"
      ]
     },
     "execution_count": 12,
     "metadata": {},
     "output_type": "execute_result"
    }
   ],
   "source": [
    "df.corr()"
   ]
  },
  {
   "cell_type": "markdown",
   "id": "announced-physics",
   "metadata": {},
   "source": [
    "# Extraemos los primeros 5 datos"
   ]
  },
  {
   "cell_type": "code",
   "execution_count": 13,
   "id": "temporal-assist",
   "metadata": {},
   "outputs": [
    {
     "data": {
      "text/html": [
       "<div>\n",
       "<style scoped>\n",
       "    .dataframe tbody tr th:only-of-type {\n",
       "        vertical-align: middle;\n",
       "    }\n",
       "\n",
       "    .dataframe tbody tr th {\n",
       "        vertical-align: top;\n",
       "    }\n",
       "\n",
       "    .dataframe thead th {\n",
       "        text-align: right;\n",
       "    }\n",
       "</style>\n",
       "<table border=\"1\" class=\"dataframe\">\n",
       "  <thead>\n",
       "    <tr style=\"text-align: right;\">\n",
       "      <th></th>\n",
       "      <th>idsensoruv</th>\n",
       "      <th>uvint</th>\n",
       "      <th>fechayhor</th>\n",
       "    </tr>\n",
       "  </thead>\n",
       "  <tbody>\n",
       "    <tr>\n",
       "      <th>0</th>\n",
       "      <td>7</td>\n",
       "      <td>269</td>\n",
       "      <td>2020-11-22 05:27:07</td>\n",
       "    </tr>\n",
       "    <tr>\n",
       "      <th>1</th>\n",
       "      <td>8</td>\n",
       "      <td>269</td>\n",
       "      <td>2020-11-22 05:45:43</td>\n",
       "    </tr>\n",
       "    <tr>\n",
       "      <th>2</th>\n",
       "      <td>9</td>\n",
       "      <td>269</td>\n",
       "      <td>2020-11-22 05:46:07</td>\n",
       "    </tr>\n",
       "    <tr>\n",
       "      <th>3</th>\n",
       "      <td>10</td>\n",
       "      <td>269</td>\n",
       "      <td>2020-11-23 08:09:27</td>\n",
       "    </tr>\n",
       "    <tr>\n",
       "      <th>4</th>\n",
       "      <td>11</td>\n",
       "      <td>269</td>\n",
       "      <td>2020-11-24 07:32:46</td>\n",
       "    </tr>\n",
       "  </tbody>\n",
       "</table>\n",
       "</div>"
      ],
      "text/plain": [
       "   idsensoruv  uvint            fechayhor\n",
       "0           7    269  2020-11-22 05:27:07\n",
       "1           8    269  2020-11-22 05:45:43\n",
       "2           9    269  2020-11-22 05:46:07\n",
       "3          10    269  2020-11-23 08:09:27\n",
       "4          11    269  2020-11-24 07:32:46"
      ]
     },
     "execution_count": 13,
     "metadata": {},
     "output_type": "execute_result"
    }
   ],
   "source": [
    "df.head(5)"
   ]
  },
  {
   "cell_type": "markdown",
   "id": "generic-driver",
   "metadata": {},
   "source": [
    "# Organizamos los datos por fecha de los primeros 6 numeros"
   ]
  },
  {
   "cell_type": "code",
   "execution_count": 14,
   "id": "textile-money",
   "metadata": {},
   "outputs": [],
   "source": [
    "df = df.head(6).sort_values(by='fechayhor')"
   ]
  },
  {
   "cell_type": "code",
   "execution_count": 15,
   "id": "collected-string",
   "metadata": {},
   "outputs": [
    {
     "data": {
      "text/html": [
       "<div>\n",
       "<style scoped>\n",
       "    .dataframe tbody tr th:only-of-type {\n",
       "        vertical-align: middle;\n",
       "    }\n",
       "\n",
       "    .dataframe tbody tr th {\n",
       "        vertical-align: top;\n",
       "    }\n",
       "\n",
       "    .dataframe thead th {\n",
       "        text-align: right;\n",
       "    }\n",
       "</style>\n",
       "<table border=\"1\" class=\"dataframe\">\n",
       "  <thead>\n",
       "    <tr style=\"text-align: right;\">\n",
       "      <th></th>\n",
       "      <th>idsensoruv</th>\n",
       "      <th>uvint</th>\n",
       "      <th>fechayhor</th>\n",
       "    </tr>\n",
       "  </thead>\n",
       "  <tbody>\n",
       "    <tr>\n",
       "      <th>0</th>\n",
       "      <td>7</td>\n",
       "      <td>269</td>\n",
       "      <td>2020-11-22 05:27:07</td>\n",
       "    </tr>\n",
       "    <tr>\n",
       "      <th>1</th>\n",
       "      <td>8</td>\n",
       "      <td>269</td>\n",
       "      <td>2020-11-22 05:45:43</td>\n",
       "    </tr>\n",
       "    <tr>\n",
       "      <th>2</th>\n",
       "      <td>9</td>\n",
       "      <td>269</td>\n",
       "      <td>2020-11-22 05:46:07</td>\n",
       "    </tr>\n",
       "    <tr>\n",
       "      <th>3</th>\n",
       "      <td>10</td>\n",
       "      <td>269</td>\n",
       "      <td>2020-11-23 08:09:27</td>\n",
       "    </tr>\n",
       "    <tr>\n",
       "      <th>4</th>\n",
       "      <td>11</td>\n",
       "      <td>269</td>\n",
       "      <td>2020-11-24 07:32:46</td>\n",
       "    </tr>\n",
       "    <tr>\n",
       "      <th>5</th>\n",
       "      <td>12</td>\n",
       "      <td>273</td>\n",
       "      <td>2020-11-24 07:32:59</td>\n",
       "    </tr>\n",
       "  </tbody>\n",
       "</table>\n",
       "</div>"
      ],
      "text/plain": [
       "   idsensoruv  uvint            fechayhor\n",
       "0           7    269  2020-11-22 05:27:07\n",
       "1           8    269  2020-11-22 05:45:43\n",
       "2           9    269  2020-11-22 05:46:07\n",
       "3          10    269  2020-11-23 08:09:27\n",
       "4          11    269  2020-11-24 07:32:46\n",
       "5          12    273  2020-11-24 07:32:59"
      ]
     },
     "execution_count": 15,
     "metadata": {},
     "output_type": "execute_result"
    }
   ],
   "source": [
    "df"
   ]
  },
  {
   "cell_type": "markdown",
   "id": "russian-advance",
   "metadata": {},
   "source": [
    "# Mostramos los indices de la informacion"
   ]
  },
  {
   "cell_type": "code",
   "execution_count": 16,
   "id": "alternate-bunch",
   "metadata": {},
   "outputs": [
    {
     "data": {
      "text/plain": [
       "Int64Index([0, 1, 2, 3, 4, 5], dtype='int64')"
      ]
     },
     "execution_count": 16,
     "metadata": {},
     "output_type": "execute_result"
    }
   ],
   "source": [
    "df.index"
   ]
  },
  {
   "cell_type": "markdown",
   "id": "cultural-interval",
   "metadata": {},
   "source": [
    "# Obtenemos el valor unico de temperatura"
   ]
  },
  {
   "cell_type": "code",
   "execution_count": 17,
   "id": "threaded-penalty",
   "metadata": {},
   "outputs": [
    {
     "data": {
      "text/plain": [
       "array([269, 273])"
      ]
     },
     "execution_count": 17,
     "metadata": {},
     "output_type": "execute_result"
    }
   ],
   "source": [
    "df.uvint.unique()"
   ]
  },
  {
   "cell_type": "markdown",
   "id": "contemporary-middle",
   "metadata": {},
   "source": [
    "# Importamos nuevas librerias"
   ]
  },
  {
   "cell_type": "code",
   "execution_count": 18,
   "id": "guilty-petersburg",
   "metadata": {},
   "outputs": [],
   "source": [
    "# Numpy operaciones de matrices \n",
    "import numpy as np \n",
    "# seaborn es para graficar y hacer comparativos\n",
    "import seaborn as sns \n",
    " \n",
    "# Graficas de forma general \n",
    "#import matplotlib as plt \n",
    "from matplotlib import pyplot as plt \n",
    "%matplotlib inline"
   ]
  },
  {
   "cell_type": "markdown",
   "id": "thrown-equality",
   "metadata": {},
   "source": [
    "# Relacionamos  la intensidad uv y el id"
   ]
  },
  {
   "cell_type": "code",
   "execution_count": null,
   "id": "moderate-pulse",
   "metadata": {},
   "outputs": [],
   "source": []
  },
  {
   "cell_type": "code",
   "execution_count": 21,
   "id": "fossil-burst",
   "metadata": {},
   "outputs": [],
   "source": [
    "relation = df[['idsensoruv','uvint']]"
   ]
  },
  {
   "cell_type": "code",
   "execution_count": 23,
   "id": "buried-outside",
   "metadata": {},
   "outputs": [
    {
     "data": {
      "text/html": [
       "<div>\n",
       "<style scoped>\n",
       "    .dataframe tbody tr th:only-of-type {\n",
       "        vertical-align: middle;\n",
       "    }\n",
       "\n",
       "    .dataframe tbody tr th {\n",
       "        vertical-align: top;\n",
       "    }\n",
       "\n",
       "    .dataframe thead th {\n",
       "        text-align: right;\n",
       "    }\n",
       "</style>\n",
       "<table border=\"1\" class=\"dataframe\">\n",
       "  <thead>\n",
       "    <tr style=\"text-align: right;\">\n",
       "      <th></th>\n",
       "      <th>idsensoruv</th>\n",
       "      <th>uvint</th>\n",
       "    </tr>\n",
       "  </thead>\n",
       "  <tbody>\n",
       "    <tr>\n",
       "      <th>0</th>\n",
       "      <td>7</td>\n",
       "      <td>269</td>\n",
       "    </tr>\n",
       "    <tr>\n",
       "      <th>1</th>\n",
       "      <td>8</td>\n",
       "      <td>269</td>\n",
       "    </tr>\n",
       "    <tr>\n",
       "      <th>2</th>\n",
       "      <td>9</td>\n",
       "      <td>269</td>\n",
       "    </tr>\n",
       "    <tr>\n",
       "      <th>3</th>\n",
       "      <td>10</td>\n",
       "      <td>269</td>\n",
       "    </tr>\n",
       "    <tr>\n",
       "      <th>4</th>\n",
       "      <td>11</td>\n",
       "      <td>269</td>\n",
       "    </tr>\n",
       "    <tr>\n",
       "      <th>5</th>\n",
       "      <td>12</td>\n",
       "      <td>273</td>\n",
       "    </tr>\n",
       "  </tbody>\n",
       "</table>\n",
       "</div>"
      ],
      "text/plain": [
       "   idsensoruv  uvint\n",
       "0           7    269\n",
       "1           8    269\n",
       "2           9    269\n",
       "3          10    269\n",
       "4          11    269\n",
       "5          12    273"
      ]
     },
     "execution_count": 23,
     "metadata": {},
     "output_type": "execute_result"
    }
   ],
   "source": [
    "relation.head(8)"
   ]
  },
  {
   "cell_type": "markdown",
   "id": "removed-regression",
   "metadata": {},
   "source": [
    "# Visualizamos la relacion que existe entre el id y la intensidad uv por medio de graficas"
   ]
  },
  {
   "cell_type": "code",
   "execution_count": 24,
   "id": "therapeutic-workplace",
   "metadata": {},
   "outputs": [
    {
     "data": {
      "image/png": "[encoded data removed]",
      "text/plain": [
       "<Figure size 360x360 with 6 Axes>"
      ]
     },
     "metadata": {
      "needs_background": "light"
     },
     "output_type": "display_data"
    }
   ],
   "source": [
    "sns.pairplot(relation, kind ='reg')\n",
    "plt.show()"
   ]
  },
  {
   "cell_type": "markdown",
   "id": "starting-acrylic",
   "metadata": {},
   "source": [
    "# Visualizamos de manera detallada la relacion de 6 datos"
   ]
  },
  {
   "cell_type": "code",
   "execution_count": 25,
   "id": "ordinary-saturn",
   "metadata": {},
   "outputs": [],
   "source": [
    "portiondata = relation.head(6)"
   ]
  },
  {
   "cell_type": "code",
   "execution_count": 30,
   "id": "adolescent-heritage",
   "metadata": {},
   "outputs": [
    {
     "data": {
      "image/png": "[encoded data removed]",
      "text/plain": [
       "<Figure size 360x360 with 6 Axes>"
      ]
     },
     "metadata": {
      "needs_background": "light"
     },
     "output_type": "display_data"
    }
   ],
   "source": [
    "sns.pairplot(portiondata, kind ='reg')\n",
    "plt.show()"
   ]
  },
  {
   "cell_type": "markdown",
   "id": "secret-welding",
   "metadata": {},
   "source": [
    "# Convertimos nuestros datos a flotantes para poder graficar"
   ]
  },
  {
   "cell_type": "code",
   "execution_count": 32,
   "id": "nonprofit-terry",
   "metadata": {},
   "outputs": [],
   "source": [
    "df=df.astype({'uvint': 'float'})"
   ]
  },
  {
   "cell_type": "code",
   "execution_count": 33,
   "id": "quality-hamburg",
   "metadata": {},
   "outputs": [
    {
     "data": {
      "text/html": [
       "<div>\n",
       "<style scoped>\n",
       "    .dataframe tbody tr th:only-of-type {\n",
       "        vertical-align: middle;\n",
       "    }\n",
       "\n",
       "    .dataframe tbody tr th {\n",
       "        vertical-align: top;\n",
       "    }\n",
       "\n",
       "    .dataframe thead th {\n",
       "        text-align: right;\n",
       "    }\n",
       "</style>\n",
       "<table border=\"1\" class=\"dataframe\">\n",
       "  <thead>\n",
       "    <tr style=\"text-align: right;\">\n",
       "      <th></th>\n",
       "      <th>idsensoruv</th>\n",
       "      <th>uvint</th>\n",
       "      <th>fechayhor</th>\n",
       "    </tr>\n",
       "  </thead>\n",
       "  <tbody>\n",
       "    <tr>\n",
       "      <th>0</th>\n",
       "      <td>7</td>\n",
       "      <td>269.0</td>\n",
       "      <td>2020-11-22 05:27:07</td>\n",
       "    </tr>\n",
       "    <tr>\n",
       "      <th>1</th>\n",
       "      <td>8</td>\n",
       "      <td>269.0</td>\n",
       "      <td>2020-11-22 05:45:43</td>\n",
       "    </tr>\n",
       "    <tr>\n",
       "      <th>2</th>\n",
       "      <td>9</td>\n",
       "      <td>269.0</td>\n",
       "      <td>2020-11-22 05:46:07</td>\n",
       "    </tr>\n",
       "    <tr>\n",
       "      <th>3</th>\n",
       "      <td>10</td>\n",
       "      <td>269.0</td>\n",
       "      <td>2020-11-23 08:09:27</td>\n",
       "    </tr>\n",
       "    <tr>\n",
       "      <th>4</th>\n",
       "      <td>11</td>\n",
       "      <td>269.0</td>\n",
       "      <td>2020-11-24 07:32:46</td>\n",
       "    </tr>\n",
       "    <tr>\n",
       "      <th>5</th>\n",
       "      <td>12</td>\n",
       "      <td>273.0</td>\n",
       "      <td>2020-11-24 07:32:59</td>\n",
       "    </tr>\n",
       "  </tbody>\n",
       "</table>\n",
       "</div>"
      ],
      "text/plain": [
       "   idsensoruv  uvint            fechayhor\n",
       "0           7  269.0  2020-11-22 05:27:07\n",
       "1           8  269.0  2020-11-22 05:45:43\n",
       "2           9  269.0  2020-11-22 05:46:07\n",
       "3          10  269.0  2020-11-23 08:09:27\n",
       "4          11  269.0  2020-11-24 07:32:46\n",
       "5          12  273.0  2020-11-24 07:32:59"
      ]
     },
     "execution_count": 33,
     "metadata": {},
     "output_type": "execute_result"
    }
   ],
   "source": [
    "df"
   ]
  },
  {
   "cell_type": "code",
   "execution_count": null,
   "id": "divine-belle",
   "metadata": {},
   "outputs": [],
   "source": []
  },
  {
   "cell_type": "markdown",
   "id": "antique-helena",
   "metadata": {},
   "source": [
    "# Visualizamos la regresion de nuestro dataframe"
   ]
  },
  {
   "cell_type": "code",
   "execution_count": 35,
   "id": "cleared-wellington",
   "metadata": {},
   "outputs": [
    {
     "data": {
      "text/plain": [
       "<seaborn.axisgrid.FacetGrid at 0x7f309246a780>"
      ]
     },
     "execution_count": 35,
     "metadata": {},
     "output_type": "execute_result"
    },
    {
     "data": {
      "image/png": "[encoded data removed]",
      "text/plain": [
       "<Figure size 360x360 with 1 Axes>"
      ]
     },
     "metadata": {
      "needs_background": "light"
     },
     "output_type": "display_data"
    }
   ],
   "source": [
    "sns.lmplot(x='idsensoruv', y='uvint', data=df)"
   ]
  },
  {
   "cell_type": "code",
   "execution_count": 36,
   "id": "typical-trading",
   "metadata": {},
   "outputs": [
    {
     "data": {
      "text/plain": [
       "<seaborn.axisgrid.FacetGrid at 0x7f30927f77b8>"
      ]
     },
     "execution_count": 36,
     "metadata": {},
     "output_type": "execute_result"
    },
    {
     "data": {
      "image/png": "[encoded data removed]",
      "text/plain": [
       "<Figure size 360x360 with 1 Axes>"
      ]
     },
     "metadata": {
      "needs_background": "light"
     },
     "output_type": "display_data"
    }
   ],
   "source": [
    "sns.lmplot(x='idsensoruv', y='uvint', data=df)"
   ]
  },
  {
   "cell_type": "markdown",
   "id": "separate-heart",
   "metadata": {},
   "source": [
    "# Visualizamos la dispersion e histogramas del id y de la intensidad uv"
   ]
  },
  {
   "cell_type": "code",
   "execution_count": null,
   "id": "latter-decrease",
   "metadata": {},
   "outputs": [],
   "source": []
  },
  {
   "cell_type": "code",
   "execution_count": 37,
   "id": "given-terminology",
   "metadata": {},
   "outputs": [
    {
     "data": {
      "text/plain": [
       "<seaborn.axisgrid.JointGrid at 0x7f309286f860>"
      ]
     },
     "execution_count": 37,
     "metadata": {},
     "output_type": "execute_result"
    },
    {
     "data": {
      "image/png": "[encoded data removed]",
      "text/plain": [
       "<Figure size 432x432 with 3 Axes>"
      ]
     },
     "metadata": {
      "needs_background": "light"
     },
     "output_type": "display_data"
    }
   ],
   "source": [
    "sns.jointplot(x='uvint', y='idsensoruv', data=df)"
   ]
  },
  {
   "cell_type": "code",
   "execution_count": null,
   "id": "ceramic-confirmation",
   "metadata": {},
   "outputs": [],
   "source": []
  },
  {
   "cell_type": "code",
   "execution_count": null,
   "id": "useful-temple",
   "metadata": {},
   "outputs": [],
   "source": []
  },
  {
   "cell_type": "code",
   "execution_count": null,
   "id": "seasonal-tension",
   "metadata": {},
   "outputs": [],
   "source": []
  },
  {
   "cell_type": "code",
   "execution_count": null,
   "id": "intimate-habitat",
   "metadata": {},
   "outputs": [],
   "source": []
  },
  {
   "cell_type": "code",
   "execution_count": null,
   "id": "arctic-thirty",
   "metadata": {},
   "outputs": [],
   "source": []
  },
  {
   "cell_type": "code",
   "execution_count": null,
   "id": "posted-dating",
   "metadata": {},
   "outputs": [],
   "source": []
  },
  {
   "cell_type": "code",
   "execution_count": null,
   "id": "regulation-limit",
   "metadata": {},
   "outputs": [],
   "source": []
  },
  {
   "cell_type": "code",
   "execution_count": null,
   "id": "rough-error",
   "metadata": {},
   "outputs": [],
   "source": []
  }
 ],
 "metadata": {
  "kernelspec": {
   "display_name": "conda_python3",
   "language": "python",
   "name": "conda_python3"
  },
  "language_info": {
   "codemirror_mode": {
    "name": "ipython",
    "version": 3
   },
   "file_extension": ".py",
   "mimetype": "text/x-python",
   "name": "python",
   "nbconvert_exporter": "python",
   "pygments_lexer": "ipython3",
   "version": "3.6.10"
  }
 },
 "nbformat": 4,
 "nbformat_minor": 5
}
